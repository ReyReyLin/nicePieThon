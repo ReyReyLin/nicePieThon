{
 "cells": [
  {
   "cell_type": "code",
   "execution_count": 1,
   "metadata": {},
   "outputs": [],
   "source": [
    "% matplotlib inline\n",
    "\n",
    "import numpy as np\n",
    "import matplotlib.pyplot as plt\n",
    "import pandas as pd\n",
    "import seaborn as sns\n",
    "import matplotlib as mpl"
   ]
  },
  {
   "cell_type": "code",
   "execution_count": 2,
   "metadata": {},
   "outputs": [],
   "source": [
    "plt.rcParams['font.sans-serif'] = ['Noto Sans CJK TC'] "
   ]
  },
  {
   "cell_type": "code",
   "execution_count": 3,
   "metadata": {},
   "outputs": [],
   "source": [
    "df = pd.read_csv('rawData.csv')"
   ]
  },
  {
   "cell_type": "code",
   "execution_count": 4,
   "metadata": {},
   "outputs": [
    {
     "data": {
      "text/html": [
       "<div>\n",
       "<style scoped>\n",
       "    .dataframe tbody tr th:only-of-type {\n",
       "        vertical-align: middle;\n",
       "    }\n",
       "\n",
       "    .dataframe tbody tr th {\n",
       "        vertical-align: top;\n",
       "    }\n",
       "\n",
       "    .dataframe thead th {\n",
       "        text-align: right;\n",
       "    }\n",
       "</style>\n",
       "<table border=\"1\" class=\"dataframe\">\n",
       "  <thead>\n",
       "    <tr style=\"text-align: right;\">\n",
       "      <th></th>\n",
       "      <th>你想像中的經濟獨立是什麼樣子呢？ - 有一筆自己的穩定存款</th>\n",
       "      <th>你想像中的經濟獨立是什麼樣子呢？ - 可以靠自己的力量購買所有想要的東西</th>\n",
       "      <th>你想像中的經濟獨立是什麼樣子呢？ - 除了規律工作以外，還有其他的收入來源</th>\n",
       "      <th>你想像中的經濟獨立是什麼樣子呢？ - 理解如何儲蓄與投資</th>\n",
       "      <th>你想像中的經濟獨立是什麼樣子呢？ - 對於自己的收入來源有所掌握</th>\n",
       "      <th>你覺得自己目前是經濟獨立的嗎？</th>\n",
       "      <th>你想要學習投資理財的動機是什麼？ - 我想存錢</th>\n",
       "      <th>你想要學習投資理財的動機是什麼？ - 我想有效運用手邊的每一分錢</th>\n",
       "      <th>你想要學習投資理財的動機是什麼？ - 我想獲得更多的金錢</th>\n",
       "      <th>對你來說，下列五個敘述你同意嗎？ - 「理財」和「投資」對我來說是一樣的意思</th>\n",
       "      <th>...</th>\n",
       "      <th>你對什麼類型的經濟課程感興趣呢？ - 如何將省下的錢投資自己</th>\n",
       "      <th>你平常有在追蹤、關注投資理財類型的名人或講師嗎？請和我們分享：（自由填答）</th>\n",
       "      <th>如果能為你準備一堂理財課，你推薦的投資理財類型講師是誰呢？（自由填答）</th>\n",
       "      <th>如果能對這堂理財課許一個願，你會希望是？</th>\n",
       "      <th>你的性別是？</th>\n",
       "      <th>你的年齡是？</th>\n",
       "      <th>你的職業是什麼呢？</th>\n",
       "      <th>你的職業是什麼呢？.1</th>\n",
       "      <th>填答時間</th>\n",
       "      <th>填答秒數</th>\n",
       "    </tr>\n",
       "  </thead>\n",
       "  <tbody>\n",
       "    <tr>\n",
       "      <th>0</th>\n",
       "      <td>0</td>\n",
       "      <td>0</td>\n",
       "      <td>1</td>\n",
       "      <td>1</td>\n",
       "      <td>0</td>\n",
       "      <td>是</td>\n",
       "      <td>1</td>\n",
       "      <td>0</td>\n",
       "      <td>1</td>\n",
       "      <td>普通</td>\n",
       "      <td>...</td>\n",
       "      <td>非常感興趣</td>\n",
       "      <td>NaN</td>\n",
       "      <td>NaN</td>\n",
       "      <td>學以致用</td>\n",
       "      <td>生理女性</td>\n",
       "      <td>25~29 歲</td>\n",
       "      <td>軍/警/消</td>\n",
       "      <td>NaN</td>\n",
       "      <td>2018-11-06 21:35:09</td>\n",
       "      <td>203</td>\n",
       "    </tr>\n",
       "    <tr>\n",
       "      <th>1</th>\n",
       "      <td>0</td>\n",
       "      <td>1</td>\n",
       "      <td>0</td>\n",
       "      <td>0</td>\n",
       "      <td>1</td>\n",
       "      <td>不是</td>\n",
       "      <td>0</td>\n",
       "      <td>1</td>\n",
       "      <td>1</td>\n",
       "      <td>普通</td>\n",
       "      <td>...</td>\n",
       "      <td>感興趣</td>\n",
       "      <td>NaN</td>\n",
       "      <td>NaN</td>\n",
       "      <td>便宜</td>\n",
       "      <td>生理女性</td>\n",
       "      <td>25~29 歲</td>\n",
       "      <td>製造業</td>\n",
       "      <td>NaN</td>\n",
       "      <td>2018-11-06 21:36:51</td>\n",
       "      <td>343</td>\n",
       "    </tr>\n",
       "    <tr>\n",
       "      <th>2</th>\n",
       "      <td>1</td>\n",
       "      <td>0</td>\n",
       "      <td>1</td>\n",
       "      <td>0</td>\n",
       "      <td>0</td>\n",
       "      <td>正在尋找方法</td>\n",
       "      <td>0</td>\n",
       "      <td>1</td>\n",
       "      <td>1</td>\n",
       "      <td>普通</td>\n",
       "      <td>...</td>\n",
       "      <td>非常感興趣</td>\n",
       "      <td>NaN</td>\n",
       "      <td>NaN</td>\n",
       "      <td>能有一定的程度吸收</td>\n",
       "      <td>生理女性</td>\n",
       "      <td>18~24 歲</td>\n",
       "      <td>學生</td>\n",
       "      <td>NaN</td>\n",
       "      <td>2018-11-06 21:36:55</td>\n",
       "      <td>230</td>\n",
       "    </tr>\n",
       "    <tr>\n",
       "      <th>3</th>\n",
       "      <td>0</td>\n",
       "      <td>1</td>\n",
       "      <td>0</td>\n",
       "      <td>0</td>\n",
       "      <td>0</td>\n",
       "      <td>是</td>\n",
       "      <td>0</td>\n",
       "      <td>1</td>\n",
       "      <td>0</td>\n",
       "      <td>非常不同意</td>\n",
       "      <td>...</td>\n",
       "      <td>普通</td>\n",
       "      <td>NaN</td>\n",
       "      <td>NaN</td>\n",
       "      <td>投資美股</td>\n",
       "      <td>生理女性</td>\n",
       "      <td>30~34 歲</td>\n",
       "      <td>資訊業</td>\n",
       "      <td>NaN</td>\n",
       "      <td>2018-11-06 21:36:56</td>\n",
       "      <td>184</td>\n",
       "    </tr>\n",
       "    <tr>\n",
       "      <th>4</th>\n",
       "      <td>0</td>\n",
       "      <td>1</td>\n",
       "      <td>1</td>\n",
       "      <td>0</td>\n",
       "      <td>0</td>\n",
       "      <td>正在尋找方法</td>\n",
       "      <td>0</td>\n",
       "      <td>1</td>\n",
       "      <td>1</td>\n",
       "      <td>普通</td>\n",
       "      <td>...</td>\n",
       "      <td>非常感興趣</td>\n",
       "      <td>NaN</td>\n",
       "      <td>NaN</td>\n",
       "      <td>自由</td>\n",
       "      <td>生理女性</td>\n",
       "      <td>30~34 歲</td>\n",
       "      <td>會計業</td>\n",
       "      <td>NaN</td>\n",
       "      <td>2018-11-06 21:37:01</td>\n",
       "      <td>198</td>\n",
       "    </tr>\n",
       "  </tbody>\n",
       "</table>\n",
       "<p>5 rows × 61 columns</p>\n",
       "</div>"
      ],
      "text/plain": [
       "   你想像中的經濟獨立是什麼樣子呢？ - 有一筆自己的穩定存款  你想像中的經濟獨立是什麼樣子呢？ - 可以靠自己的力量購買所有想要的東西  \\\n",
       "0                              0                                     0   \n",
       "1                              0                                     1   \n",
       "2                              1                                     0   \n",
       "3                              0                                     1   \n",
       "4                              0                                     1   \n",
       "\n",
       "   你想像中的經濟獨立是什麼樣子呢？ - 除了規律工作以外，還有其他的收入來源  你想像中的經濟獨立是什麼樣子呢？ - 理解如何儲蓄與投資  \\\n",
       "0                                      1                             1   \n",
       "1                                      0                             0   \n",
       "2                                      1                             0   \n",
       "3                                      0                             0   \n",
       "4                                      1                             0   \n",
       "\n",
       "   你想像中的經濟獨立是什麼樣子呢？ - 對於自己的收入來源有所掌握 你覺得自己目前是經濟獨立的嗎？  你想要學習投資理財的動機是什麼？ - 我想存錢  \\\n",
       "0                                 0               是                        1   \n",
       "1                                 1              不是                        0   \n",
       "2                                 0          正在尋找方法                        0   \n",
       "3                                 0               是                        0   \n",
       "4                                 0          正在尋找方法                        0   \n",
       "\n",
       "   你想要學習投資理財的動機是什麼？ - 我想有效運用手邊的每一分錢  你想要學習投資理財的動機是什麼？ - 我想獲得更多的金錢  \\\n",
       "0                                 0                             1   \n",
       "1                                 1                             1   \n",
       "2                                 1                             1   \n",
       "3                                 1                             0   \n",
       "4                                 1                             1   \n",
       "\n",
       "  對你來說，下列五個敘述你同意嗎？ - 「理財」和「投資」對我來說是一樣的意思  ...  你對什麼類型的經濟課程感興趣呢？ - 如何將省下的錢投資自己  \\\n",
       "0                                     普通  ...                           非常感興趣   \n",
       "1                                     普通  ...                             感興趣   \n",
       "2                                     普通  ...                           非常感興趣   \n",
       "3                                  非常不同意  ...                              普通   \n",
       "4                                     普通  ...                           非常感興趣   \n",
       "\n",
       "  你平常有在追蹤、關注投資理財類型的名人或講師嗎？請和我們分享：（自由填答） 如果能為你準備一堂理財課，你推薦的投資理財類型講師是誰呢？（自由填答）  \\\n",
       "0                                   NaN                                 NaN   \n",
       "1                                   NaN                                 NaN   \n",
       "2                                   NaN                                 NaN   \n",
       "3                                   NaN                                 NaN   \n",
       "4                                   NaN                                 NaN   \n",
       "\n",
       "  如果能對這堂理財課許一個願，你會希望是？ 你的性別是？   你的年齡是？ 你的職業是什麼呢？ 你的職業是什麼呢？.1  \\\n",
       "0                 學以致用   生理女性  25~29 歲     軍/警/消         NaN   \n",
       "1                   便宜   生理女性  25~29 歲       製造業         NaN   \n",
       "2            能有一定的程度吸收   生理女性  18~24 歲        學生         NaN   \n",
       "3                 投資美股   生理女性  30~34 歲       資訊業         NaN   \n",
       "4                   自由   生理女性  30~34 歲       會計業         NaN   \n",
       "\n",
       "                  填答時間  填答秒數  \n",
       "0  2018-11-06 21:35:09   203  \n",
       "1  2018-11-06 21:36:51   343  \n",
       "2  2018-11-06 21:36:55   230  \n",
       "3  2018-11-06 21:36:56   184  \n",
       "4  2018-11-06 21:37:01   198  \n",
       "\n",
       "[5 rows x 61 columns]"
      ]
     },
     "execution_count": 4,
     "metadata": {},
     "output_type": "execute_result"
    }
   ],
   "source": [
    "df.head()"
   ]
  },
  {
   "cell_type": "code",
   "execution_count": 5,
   "metadata": {},
   "outputs": [],
   "source": [
    "colomnsName = ['t11', 't12', 't13', 't14', 't15', 't2', \n",
    "               't31', 't32', 't33', \n",
    "               't41', 't42', 't43', 't44', 't45', \n",
    "               'income', 'di', 'diPercent',\n",
    "               's0', 's11', 's12', 's13', 's14', \n",
    "               'i10', 'i11', 'i12', 'i13','i14', 'i15', 'i16',\n",
    "               'i21', 'i22', 'i23', 'i24', 'i25','track', 'i3', \n",
    "               'i40', 'i41', 'i42', 'i43', 'i44', 'i45','i46', \n",
    "               'c11', 'c12', 'c13', 'c14', 'c15', 'c16', 'c17', 'c18', \n",
    "               'c19', 'c2', 'c3', 'c4', 'sex', 'age', 'job', 'jobElse']"
   ]
  },
  {
   "cell_type": "code",
   "execution_count": 6,
   "metadata": {},
   "outputs": [
    {
     "data": {
      "text/plain": [
       "59"
      ]
     },
     "execution_count": 6,
     "metadata": {},
     "output_type": "execute_result"
    }
   ],
   "source": [
    "len(colomnsName)"
   ]
  },
  {
   "cell_type": "code",
   "execution_count": 7,
   "metadata": {},
   "outputs": [
    {
     "data": {
      "text/plain": [
       "61"
      ]
     },
     "execution_count": 7,
     "metadata": {},
     "output_type": "execute_result"
    }
   ],
   "source": [
    "len(df.columns)"
   ]
  },
  {
   "cell_type": "code",
   "execution_count": 8,
   "metadata": {},
   "outputs": [
    {
     "data": {
      "text/plain": [
       "array([['你想像中的經濟獨立是什麼樣子呢？ - 有一筆自己的穩定存款'],\n",
       "       ['你想像中的經濟獨立是什麼樣子呢？ - 可以靠自己的力量購買所有想要的東西'],\n",
       "       ['你想像中的經濟獨立是什麼樣子呢？ - 除了規律工作以外，還有其他的收入來源'],\n",
       "       ['你想像中的經濟獨立是什麼樣子呢？ - 理解如何儲蓄與投資'],\n",
       "       ['你想像中的經濟獨立是什麼樣子呢？ - 對於自己的收入來源有所掌握'],\n",
       "       ['你覺得自己目前是經濟獨立的嗎？'],\n",
       "       ['你想要學習投資理財的動機是什麼？ - 我想存錢'],\n",
       "       ['你想要學習投資理財的動機是什麼？ - 我想有效運用手邊的每一分錢'],\n",
       "       ['你想要學習投資理財的動機是什麼？ - 我想獲得更多的金錢'],\n",
       "       ['對你來說，下列五個敘述你同意嗎？ - 「理財」和「投資」對我來說是一樣的意思'],\n",
       "       ['對你來說，下列五個敘述你同意嗎？ - 我的數學不太好，所以也不太敢投資'],\n",
       "       ['對你來說，下列五個敘述你同意嗎？ - 我的可支配所得不高，所以沒什麼好投資的'],\n",
       "       ['對你來說，下列五個敘述你同意嗎？ - 投資理財有賺有賠，所以我寧可把錢存起來，比較沒風險'],\n",
       "       ['對你來說，下列五個敘述你同意嗎？ - 我是上班族，沒有時間投資理財'],\n",
       "       ['想要先了解你目前的年薪狀況是如何呢？'],\n",
       "       ['目前一個月的可支配所得是多少呢？'],\n",
       "       ['如果可以，一個月願意用多少可支配所得比例來投資？'],\n",
       "       ['目前手邊所擁有的存款是多少呢？'],\n",
       "       ['個人資產 / 存款的主要來源是來自？ - 儲蓄'],\n",
       "       ['個人資產 / 存款的主要來源是來自？ - 投資'],\n",
       "       ['個人資產 / 存款的主要來源是來自？ - 親友贈與'],\n",
       "       ['個人資產 / 存款的主要來源是來自？ - 其他'],\n",
       "       ['你現在有在投資嗎？如果有，主要投資方式為何呢？ - 沒有'],\n",
       "       ['你現在有在投資嗎？如果有，主要投資方式為何呢？ - 有，股票'],\n",
       "       ['你現在有在投資嗎？如果有，主要投資方式為何呢？ - 有，保險'],\n",
       "       ['你現在有在投資嗎？如果有，主要投資方式為何呢？ - 有，基金'],\n",
       "       ['你現在有在投資嗎？如果有，主要投資方式為何呢？ - 有，外幣'],\n",
       "       ['你現在有在投資嗎？如果有，主要投資方式為何呢？ - 有，房地產'],\n",
       "       ['你現在有在投資嗎？如果有，主要投資方式為何呢？ - 其他'],\n",
       "       ['你沒有投資的原因為何呢？ - 時間不足'],\n",
       "       ['你沒有投資的原因為何呢？ - 資金不足'],\n",
       "       ['你沒有投資的原因為何呢？ - 對投資知識了解不足'],\n",
       "       ['你沒有投資的原因為何呢？ - 有投資過，但沒有得到理想成果'],\n",
       "       ['你沒有投資的原因為何呢？ - 其他'],\n",
       "       ['你現在有記帳的習慣嗎？'],\n",
       "       ['以下六種敘述，哪個最符合你的投資理財情形呢？'],\n",
       "       ['目前自己在投資理財方面，所碰到的困難是？ - 沒有碰到困難'],\n",
       "       ['目前自己在投資理財方面，所碰到的困難是？ - 資訊太少'],\n",
       "       ['目前自己在投資理財方面，所碰到的困難是？ - 資訊太多，不知如何分辨正確性'],\n",
       "       ['目前自己在投資理財方面，所碰到的困難是？ - 資訊太多，不知哪些適合自己'],\n",
       "       ['目前自己在投資理財方面，所碰到的困難是？ - 學到的無法應用在自己身上'],\n",
       "       ['目前自己在投資理財方面，所碰到的困難是？ - 應用後沒有得到期望效果'],\n",
       "       ['目前自己在投資理財方面，所碰到的困難是？ - 其他'],\n",
       "       ['你對什麼類型的經濟課程感興趣呢？ - 如何開始記帳與儲蓄習慣'],\n",
       "       ['你對什麼類型的經濟課程感興趣呢？ - 如何設計資產配置方式（例如：日常支出、固定存款、投資理財等比重）'],\n",
       "       ['你對什麼類型的經濟課程感興趣呢？ - 如何規劃多元的投資方式'],\n",
       "       ['你對什麼類型的經濟課程感興趣呢？ - 如何理解股票'],\n",
       "       ['你對什麼類型的經濟課程感興趣呢？ - 如何熟悉基金'],\n",
       "       ['你對什麼類型的經濟課程感興趣呢？ - 如何認識保險類別'],\n",
       "       ['你對什麼類型的經濟課程感興趣呢？ - 如何學會理財小撇步（例如：累積航空里程、善用現金回饋、有海外消費回饋的信用卡等）'],\n",
       "       ['你對什麼類型的經濟課程感興趣呢？ - 如何有質感地花費'],\n",
       "       ['你對什麼類型的經濟課程感興趣呢？ - 如何將省下的錢投資自己'],\n",
       "       ['你平常有在追蹤、關注投資理財類型的名人或講師嗎？請和我們分享：（自由填答）'],\n",
       "       ['如果能為你準備一堂理財課，你推薦的投資理財類型講師是誰呢？（自由填答）'],\n",
       "       ['如果能對這堂理財課許一個願，你會希望是？'],\n",
       "       ['你的性別是？'],\n",
       "       ['你的年齡是？'],\n",
       "       ['你的職業是什麼呢？'],\n",
       "       ['你的職業是什麼呢？.1'],\n",
       "       ['填答時間'],\n",
       "       ['填答秒數']], dtype=object)"
      ]
     },
     "execution_count": 8,
     "metadata": {},
     "output_type": "execute_result"
    }
   ],
   "source": [
    "np.array(df.columns).reshape(61, 1)"
   ]
  },
  {
   "cell_type": "code",
   "execution_count": 9,
   "metadata": {},
   "outputs": [],
   "source": [
    "df = df.iloc[:,:59]    # 移除欄位 ['填答時間'], ['填答秒數']"
   ]
  },
  {
   "cell_type": "code",
   "execution_count": 10,
   "metadata": {},
   "outputs": [
    {
     "data": {
      "text/plain": [
       "59"
      ]
     },
     "execution_count": 10,
     "metadata": {},
     "output_type": "execute_result"
    }
   ],
   "source": [
    "len(df.columns)"
   ]
  },
  {
   "cell_type": "code",
   "execution_count": 11,
   "metadata": {},
   "outputs": [],
   "source": [
    "df.columns = colomnsName"
   ]
  },
  {
   "cell_type": "code",
   "execution_count": 12,
   "metadata": {},
   "outputs": [
    {
     "data": {
      "text/html": [
       "<div>\n",
       "<style scoped>\n",
       "    .dataframe tbody tr th:only-of-type {\n",
       "        vertical-align: middle;\n",
       "    }\n",
       "\n",
       "    .dataframe tbody tr th {\n",
       "        vertical-align: top;\n",
       "    }\n",
       "\n",
       "    .dataframe thead th {\n",
       "        text-align: right;\n",
       "    }\n",
       "</style>\n",
       "<table border=\"1\" class=\"dataframe\">\n",
       "  <thead>\n",
       "    <tr style=\"text-align: right;\">\n",
       "      <th></th>\n",
       "      <th>t11</th>\n",
       "      <th>t12</th>\n",
       "      <th>t13</th>\n",
       "      <th>t14</th>\n",
       "      <th>t15</th>\n",
       "      <th>t2</th>\n",
       "      <th>t31</th>\n",
       "      <th>t32</th>\n",
       "      <th>t33</th>\n",
       "      <th>t41</th>\n",
       "      <th>...</th>\n",
       "      <th>c17</th>\n",
       "      <th>c18</th>\n",
       "      <th>c19</th>\n",
       "      <th>c2</th>\n",
       "      <th>c3</th>\n",
       "      <th>c4</th>\n",
       "      <th>sex</th>\n",
       "      <th>age</th>\n",
       "      <th>job</th>\n",
       "      <th>jobElse</th>\n",
       "    </tr>\n",
       "  </thead>\n",
       "  <tbody>\n",
       "    <tr>\n",
       "      <th>0</th>\n",
       "      <td>0</td>\n",
       "      <td>0</td>\n",
       "      <td>1</td>\n",
       "      <td>1</td>\n",
       "      <td>0</td>\n",
       "      <td>是</td>\n",
       "      <td>1</td>\n",
       "      <td>0</td>\n",
       "      <td>1</td>\n",
       "      <td>普通</td>\n",
       "      <td>...</td>\n",
       "      <td>普通</td>\n",
       "      <td>普通</td>\n",
       "      <td>非常感興趣</td>\n",
       "      <td>NaN</td>\n",
       "      <td>NaN</td>\n",
       "      <td>學以致用</td>\n",
       "      <td>生理女性</td>\n",
       "      <td>25~29 歲</td>\n",
       "      <td>軍/警/消</td>\n",
       "      <td>NaN</td>\n",
       "    </tr>\n",
       "    <tr>\n",
       "      <th>1</th>\n",
       "      <td>0</td>\n",
       "      <td>1</td>\n",
       "      <td>0</td>\n",
       "      <td>0</td>\n",
       "      <td>1</td>\n",
       "      <td>不是</td>\n",
       "      <td>0</td>\n",
       "      <td>1</td>\n",
       "      <td>1</td>\n",
       "      <td>普通</td>\n",
       "      <td>...</td>\n",
       "      <td>不感興趣</td>\n",
       "      <td>感興趣</td>\n",
       "      <td>感興趣</td>\n",
       "      <td>NaN</td>\n",
       "      <td>NaN</td>\n",
       "      <td>便宜</td>\n",
       "      <td>生理女性</td>\n",
       "      <td>25~29 歲</td>\n",
       "      <td>製造業</td>\n",
       "      <td>NaN</td>\n",
       "    </tr>\n",
       "    <tr>\n",
       "      <th>2</th>\n",
       "      <td>1</td>\n",
       "      <td>0</td>\n",
       "      <td>1</td>\n",
       "      <td>0</td>\n",
       "      <td>0</td>\n",
       "      <td>正在尋找方法</td>\n",
       "      <td>0</td>\n",
       "      <td>1</td>\n",
       "      <td>1</td>\n",
       "      <td>普通</td>\n",
       "      <td>...</td>\n",
       "      <td>感興趣</td>\n",
       "      <td>感興趣</td>\n",
       "      <td>非常感興趣</td>\n",
       "      <td>NaN</td>\n",
       "      <td>NaN</td>\n",
       "      <td>能有一定的程度吸收</td>\n",
       "      <td>生理女性</td>\n",
       "      <td>18~24 歲</td>\n",
       "      <td>學生</td>\n",
       "      <td>NaN</td>\n",
       "    </tr>\n",
       "    <tr>\n",
       "      <th>3</th>\n",
       "      <td>0</td>\n",
       "      <td>1</td>\n",
       "      <td>0</td>\n",
       "      <td>0</td>\n",
       "      <td>0</td>\n",
       "      <td>是</td>\n",
       "      <td>0</td>\n",
       "      <td>1</td>\n",
       "      <td>0</td>\n",
       "      <td>非常不同意</td>\n",
       "      <td>...</td>\n",
       "      <td>普通</td>\n",
       "      <td>普通</td>\n",
       "      <td>普通</td>\n",
       "      <td>NaN</td>\n",
       "      <td>NaN</td>\n",
       "      <td>投資美股</td>\n",
       "      <td>生理女性</td>\n",
       "      <td>30~34 歲</td>\n",
       "      <td>資訊業</td>\n",
       "      <td>NaN</td>\n",
       "    </tr>\n",
       "    <tr>\n",
       "      <th>4</th>\n",
       "      <td>0</td>\n",
       "      <td>1</td>\n",
       "      <td>1</td>\n",
       "      <td>0</td>\n",
       "      <td>0</td>\n",
       "      <td>正在尋找方法</td>\n",
       "      <td>0</td>\n",
       "      <td>1</td>\n",
       "      <td>1</td>\n",
       "      <td>普通</td>\n",
       "      <td>...</td>\n",
       "      <td>非常感興趣</td>\n",
       "      <td>非常感興趣</td>\n",
       "      <td>非常感興趣</td>\n",
       "      <td>NaN</td>\n",
       "      <td>NaN</td>\n",
       "      <td>自由</td>\n",
       "      <td>生理女性</td>\n",
       "      <td>30~34 歲</td>\n",
       "      <td>會計業</td>\n",
       "      <td>NaN</td>\n",
       "    </tr>\n",
       "  </tbody>\n",
       "</table>\n",
       "<p>5 rows × 59 columns</p>\n",
       "</div>"
      ],
      "text/plain": [
       "   t11  t12  t13  t14  t15      t2  t31  t32  t33    t41   ...       c17  \\\n",
       "0    0    0    1    1    0       是    1    0    1     普通   ...        普通   \n",
       "1    0    1    0    0    1      不是    0    1    1     普通   ...      不感興趣   \n",
       "2    1    0    1    0    0  正在尋找方法    0    1    1     普通   ...       感興趣   \n",
       "3    0    1    0    0    0       是    0    1    0  非常不同意   ...        普通   \n",
       "4    0    1    1    0    0  正在尋找方法    0    1    1     普通   ...     非常感興趣   \n",
       "\n",
       "     c18    c19   c2   c3         c4   sex      age    job  jobElse  \n",
       "0     普通  非常感興趣  NaN  NaN       學以致用  生理女性  25~29 歲  軍/警/消      NaN  \n",
       "1    感興趣    感興趣  NaN  NaN         便宜  生理女性  25~29 歲    製造業      NaN  \n",
       "2    感興趣  非常感興趣  NaN  NaN  能有一定的程度吸收  生理女性  18~24 歲     學生      NaN  \n",
       "3     普通     普通  NaN  NaN       投資美股  生理女性  30~34 歲    資訊業      NaN  \n",
       "4  非常感興趣  非常感興趣  NaN  NaN         自由  生理女性  30~34 歲    會計業      NaN  \n",
       "\n",
       "[5 rows x 59 columns]"
      ]
     },
     "execution_count": 12,
     "metadata": {},
     "output_type": "execute_result"
    }
   ],
   "source": [
    "df.head()"
   ]
  },
  {
   "cell_type": "code",
   "execution_count": 13,
   "metadata": {},
   "outputs": [],
   "source": [
    "df['t2'] = df['t2'].replace({'是': 1, '不是': 0, '正在尋找方法': 2})"
   ]
  },
  {
   "cell_type": "code",
   "execution_count": 14,
   "metadata": {},
   "outputs": [],
   "source": [
    "df['t41'] = df['t41'].replace({'非常不同意': 1, \n",
    "                               '不同意': 2,\n",
    "                               '普通': 3,\n",
    "                               '同意': 4, \n",
    "                               '非常同意': 5})"
   ]
  },
  {
   "cell_type": "code",
   "execution_count": 15,
   "metadata": {},
   "outputs": [],
   "source": [
    "df['t42'] = df['t42'].replace({'非常不同意': 1, \n",
    "                               '不同意': 2,\n",
    "                               '普通': 3,\n",
    "                               '同意': 4, \n",
    "                               '非常同意': 5})"
   ]
  },
  {
   "cell_type": "code",
   "execution_count": 16,
   "metadata": {},
   "outputs": [],
   "source": [
    "df['t43'] = df['t43'].replace({'非常不同意': 1, \n",
    "                               '不同意': 2,\n",
    "                               '普通': 3,\n",
    "                               '同意': 4, \n",
    "                               '非常同意': 5})"
   ]
  },
  {
   "cell_type": "code",
   "execution_count": 17,
   "metadata": {},
   "outputs": [],
   "source": [
    "df['t44'] = df['t44'].replace({'非常不同意': 1, \n",
    "                               '不同意': 2,\n",
    "                               '普通': 3,\n",
    "                               '同意': 4, \n",
    "                               '非常同意': 5})"
   ]
  },
  {
   "cell_type": "code",
   "execution_count": 18,
   "metadata": {},
   "outputs": [],
   "source": [
    "df['t45'] = df['t45'].replace({'非常不同意': 1, \n",
    "                               '不同意': 2,\n",
    "                               '普通': 3,\n",
    "                               '同意': 4, \n",
    "                               '非常同意': 5})"
   ]
  },
  {
   "cell_type": "code",
   "execution_count": 19,
   "metadata": {},
   "outputs": [],
   "source": [
    "df['income'] = df['income'].replace({'300,000 以下': 1,\n",
    "                                     '300,001~400,000': 2,\n",
    "                                     '400,001~500,000': 3,\n",
    "                                     '500,001~600,000': 4,\n",
    "                                     '600,001~700,000': 5,\n",
    "                                     '700,001~800,000': 6,\n",
    "                                     '800,001~900,000': 7,\n",
    "                                     '900,001~1,000,000': 8,\n",
    "                                     '1,000,000 以上': 9})"
   ]
  },
  {
   "cell_type": "code",
   "execution_count": 20,
   "metadata": {},
   "outputs": [],
   "source": [
    "df['di'] = df['di'].replace({'5,000 以下': 1,\n",
    "                             '5,001~10,000': 2,\n",
    "                             '10,001~20,000': 3,\n",
    "                             '20,001~30,000': 4,\n",
    "                             '30,001~40,000': 5,\n",
    "                             '40,001~50,000': 6,\n",
    "                             '50,000 以上': 7,\n",
    "                             '沒有特別計算': 97})"
   ]
  },
  {
   "cell_type": "code",
   "execution_count": 21,
   "metadata": {},
   "outputs": [],
   "source": [
    "df['diPercent'] = df['diPercent'].replace({'10% 以下': 1,\n",
    "                                           '11~20 %': 2,\n",
    "                                           '21~30 %': 3,\n",
    "                                           '31~40 %': 4,\n",
    "                                           '41~50 %': 5,\n",
    "                                           '50% 以上': 6,\n",
    "                                           '沒有特別想法': 97})"
   ]
  },
  {
   "cell_type": "code",
   "execution_count": 22,
   "metadata": {},
   "outputs": [],
   "source": [
    "df['s0'] = df['s0'].replace({'10 萬以下': 1,\n",
    "                             '10~30 萬': 2,\n",
    "                             '31~50 萬': 3,\n",
    "                             '51~70 萬': 4,\n",
    "                             '71~90 萬': 5,\n",
    "                             '91~100 萬': 6,\n",
    "                             '100~150 萬': 7,\n",
    "                             '151~200 萬': 8,\n",
    "                             '200 萬以上': 9,\n",
    "                             '沒有特別計算': 97})"
   ]
  },
  {
   "cell_type": "code",
   "execution_count": 23,
   "metadata": {},
   "outputs": [],
   "source": [
    "df['track'] = df['track'].replace({'有': 1, '沒有': 0, '正在尋找方法': 2})"
   ]
  },
  {
   "cell_type": "code",
   "execution_count": 24,
   "metadata": {},
   "outputs": [],
   "source": [
    "df['i3'] = df['i3'].replace({'常常不知不覺就把錢花掉': 1,\n",
    "                             '只會把錢存起來，不懂投資理財': 2,\n",
    "                             '只會理財，但不懂投資': 3,\n",
    "                             '有在投資，但沒有穩定獲益': 4,\n",
    "                             '有投資，也有穩定獲益': 5,\n",
    "                             '其他': 77})"
   ]
  },
  {
   "cell_type": "code",
   "execution_count": 25,
   "metadata": {},
   "outputs": [],
   "source": [
    "df['c11'] =  df['c11'].replace({'非常不感興趣': 1, \n",
    "                                '不感興趣': 2,\n",
    "                                '普通': 3,\n",
    "                                '感興趣': 4, \n",
    "                                '非常感興趣': 5})"
   ]
  },
  {
   "cell_type": "code",
   "execution_count": 26,
   "metadata": {},
   "outputs": [],
   "source": [
    "df['c12'] =  df['c12'].replace({'非常不感興趣': 1, \n",
    "                                '不感興趣': 2,\n",
    "                                '普通': 3,\n",
    "                                '感興趣': 4, \n",
    "                                '非常感興趣': 5})"
   ]
  },
  {
   "cell_type": "code",
   "execution_count": 27,
   "metadata": {},
   "outputs": [],
   "source": [
    "df['c13'] =  df['c13'].replace({'非常不感興趣': 1, \n",
    "                                '不感興趣': 2,\n",
    "                                '普通': 3,\n",
    "                                '感興趣': 4, \n",
    "                                '非常感興趣': 5})"
   ]
  },
  {
   "cell_type": "code",
   "execution_count": 28,
   "metadata": {},
   "outputs": [],
   "source": [
    "df['c14'] =  df['c14'].replace({'非常不感興趣': 1, \n",
    "                                '不感興趣': 2,\n",
    "                                '普通': 3,\n",
    "                                '感興趣': 4, \n",
    "                                '非常感興趣': 5})"
   ]
  },
  {
   "cell_type": "code",
   "execution_count": 29,
   "metadata": {},
   "outputs": [],
   "source": [
    "df['c15'] =  df['c15'].replace({'非常不感興趣': 1, \n",
    "                                '不感興趣': 2,\n",
    "                                '普通': 3,\n",
    "                                '感興趣': 4, \n",
    "                                '非常感興趣': 5})"
   ]
  },
  {
   "cell_type": "code",
   "execution_count": 30,
   "metadata": {},
   "outputs": [],
   "source": [
    "df['c16'] =  df['c16'].replace({'非常不感興趣': 1, \n",
    "                                '不感興趣': 2,\n",
    "                                '普通': 3,\n",
    "                                '感興趣': 4, \n",
    "                                '非常感興趣': 5})"
   ]
  },
  {
   "cell_type": "code",
   "execution_count": 31,
   "metadata": {},
   "outputs": [],
   "source": [
    "df['c17'] =  df['c17'].replace({'非常不感興趣': 1, \n",
    "                                '不感興趣': 2,\n",
    "                                '普通': 3,\n",
    "                                '感興趣': 4, \n",
    "                                '非常感興趣': 5})"
   ]
  },
  {
   "cell_type": "code",
   "execution_count": 32,
   "metadata": {},
   "outputs": [],
   "source": [
    "df['c18'] =  df['c18'].replace({'非常不感興趣': 1, \n",
    "                                '不感興趣': 2,\n",
    "                                '普通': 3,\n",
    "                                '感興趣': 4, \n",
    "                                '非常感興趣': 5})"
   ]
  },
  {
   "cell_type": "code",
   "execution_count": 33,
   "metadata": {},
   "outputs": [],
   "source": [
    "df['c19'] =  df['c19'].replace({'非常不感興趣': 1, \n",
    "                                '不感興趣': 2,\n",
    "                                '普通': 3,\n",
    "                                '感興趣': 4, \n",
    "                                '非常感興趣': 5})"
   ]
  },
  {
   "cell_type": "code",
   "execution_count": 34,
   "metadata": {},
   "outputs": [],
   "source": [
    "df['sex'] = df['sex'].replace({'生理女性': 0,\n",
    "                               '生理男性': 1,\n",
    "                               '多元性別': 2})"
   ]
  },
  {
   "cell_type": "code",
   "execution_count": 35,
   "metadata": {},
   "outputs": [],
   "source": [
    "df['age'] = df['age'].replace({'18 歲以下': 1,\n",
    "                               '18~24 歲': 2,\n",
    "                               '25~29 歲': 3,\n",
    "                               '30~34 歲': 4,\n",
    "                               '35~39 歲': 5,\n",
    "                               '40~44 歲': 6,\n",
    "                               '45~49 歲': 7,\n",
    "                               '50~54 歲': 8,\n",
    "                               '55 歲以上': 9})"
   ]
  },
  {
   "cell_type": "code",
   "execution_count": 36,
   "metadata": {},
   "outputs": [],
   "source": [
    "df['job'] = df['job'].replace({'學生': 1,\n",
    "                               'NGO': 2,\n",
    "                               '軍/警/消': 3,\n",
    "                               '教師/講師': 4,\n",
    "                               '教育研究': 5,\n",
    "                               '政府機關': 6,\n",
    "                               '餐飲業': 7,\n",
    "                               '服務業': 8,\n",
    "                               '金融業': 9,\n",
    "                               '醫療業': 10,\n",
    "                               '製造業': 11,\n",
    "                               '資訊業': 12,\n",
    "                               '保險業': 13,\n",
    "                               '會計業': 14,\n",
    "                               '旅遊業': 15,\n",
    "                               '新聞媒體': 16,\n",
    "                               '交通/運輸': 17,\n",
    "                               '行銷/廣告/企劃': 18,\n",
    "                               '文創/藝術/設計相關': 19,\n",
    "                               '農林漁牧業': 20,\n",
    "                               '家管/退休': 21,\n",
    "                               '待業中': 22,\n",
    "                               '其他（歡迎自由填答）': 77})"
   ]
  },
  {
   "cell_type": "code",
   "execution_count": 37,
   "metadata": {},
   "outputs": [
    {
     "data": {
      "text/html": [
       "<div>\n",
       "<style scoped>\n",
       "    .dataframe tbody tr th:only-of-type {\n",
       "        vertical-align: middle;\n",
       "    }\n",
       "\n",
       "    .dataframe tbody tr th {\n",
       "        vertical-align: top;\n",
       "    }\n",
       "\n",
       "    .dataframe thead th {\n",
       "        text-align: right;\n",
       "    }\n",
       "</style>\n",
       "<table border=\"1\" class=\"dataframe\">\n",
       "  <thead>\n",
       "    <tr style=\"text-align: right;\">\n",
       "      <th></th>\n",
       "      <th>t11</th>\n",
       "      <th>t12</th>\n",
       "      <th>t13</th>\n",
       "      <th>t14</th>\n",
       "      <th>t15</th>\n",
       "      <th>t2</th>\n",
       "      <th>t31</th>\n",
       "      <th>t32</th>\n",
       "      <th>t33</th>\n",
       "      <th>t41</th>\n",
       "      <th>...</th>\n",
       "      <th>c17</th>\n",
       "      <th>c18</th>\n",
       "      <th>c19</th>\n",
       "      <th>c2</th>\n",
       "      <th>c3</th>\n",
       "      <th>c4</th>\n",
       "      <th>sex</th>\n",
       "      <th>age</th>\n",
       "      <th>job</th>\n",
       "      <th>jobElse</th>\n",
       "    </tr>\n",
       "  </thead>\n",
       "  <tbody>\n",
       "    <tr>\n",
       "      <th>0</th>\n",
       "      <td>0</td>\n",
       "      <td>0</td>\n",
       "      <td>1</td>\n",
       "      <td>1</td>\n",
       "      <td>0</td>\n",
       "      <td>1</td>\n",
       "      <td>1</td>\n",
       "      <td>0</td>\n",
       "      <td>1</td>\n",
       "      <td>3</td>\n",
       "      <td>...</td>\n",
       "      <td>3</td>\n",
       "      <td>3</td>\n",
       "      <td>5</td>\n",
       "      <td>NaN</td>\n",
       "      <td>NaN</td>\n",
       "      <td>學以致用</td>\n",
       "      <td>0</td>\n",
       "      <td>3</td>\n",
       "      <td>3</td>\n",
       "      <td>NaN</td>\n",
       "    </tr>\n",
       "    <tr>\n",
       "      <th>1</th>\n",
       "      <td>0</td>\n",
       "      <td>1</td>\n",
       "      <td>0</td>\n",
       "      <td>0</td>\n",
       "      <td>1</td>\n",
       "      <td>0</td>\n",
       "      <td>0</td>\n",
       "      <td>1</td>\n",
       "      <td>1</td>\n",
       "      <td>3</td>\n",
       "      <td>...</td>\n",
       "      <td>2</td>\n",
       "      <td>4</td>\n",
       "      <td>4</td>\n",
       "      <td>NaN</td>\n",
       "      <td>NaN</td>\n",
       "      <td>便宜</td>\n",
       "      <td>0</td>\n",
       "      <td>3</td>\n",
       "      <td>11</td>\n",
       "      <td>NaN</td>\n",
       "    </tr>\n",
       "    <tr>\n",
       "      <th>2</th>\n",
       "      <td>1</td>\n",
       "      <td>0</td>\n",
       "      <td>1</td>\n",
       "      <td>0</td>\n",
       "      <td>0</td>\n",
       "      <td>2</td>\n",
       "      <td>0</td>\n",
       "      <td>1</td>\n",
       "      <td>1</td>\n",
       "      <td>3</td>\n",
       "      <td>...</td>\n",
       "      <td>4</td>\n",
       "      <td>4</td>\n",
       "      <td>5</td>\n",
       "      <td>NaN</td>\n",
       "      <td>NaN</td>\n",
       "      <td>能有一定的程度吸收</td>\n",
       "      <td>0</td>\n",
       "      <td>2</td>\n",
       "      <td>1</td>\n",
       "      <td>NaN</td>\n",
       "    </tr>\n",
       "    <tr>\n",
       "      <th>3</th>\n",
       "      <td>0</td>\n",
       "      <td>1</td>\n",
       "      <td>0</td>\n",
       "      <td>0</td>\n",
       "      <td>0</td>\n",
       "      <td>1</td>\n",
       "      <td>0</td>\n",
       "      <td>1</td>\n",
       "      <td>0</td>\n",
       "      <td>1</td>\n",
       "      <td>...</td>\n",
       "      <td>3</td>\n",
       "      <td>3</td>\n",
       "      <td>3</td>\n",
       "      <td>NaN</td>\n",
       "      <td>NaN</td>\n",
       "      <td>投資美股</td>\n",
       "      <td>0</td>\n",
       "      <td>4</td>\n",
       "      <td>12</td>\n",
       "      <td>NaN</td>\n",
       "    </tr>\n",
       "    <tr>\n",
       "      <th>4</th>\n",
       "      <td>0</td>\n",
       "      <td>1</td>\n",
       "      <td>1</td>\n",
       "      <td>0</td>\n",
       "      <td>0</td>\n",
       "      <td>2</td>\n",
       "      <td>0</td>\n",
       "      <td>1</td>\n",
       "      <td>1</td>\n",
       "      <td>3</td>\n",
       "      <td>...</td>\n",
       "      <td>5</td>\n",
       "      <td>5</td>\n",
       "      <td>5</td>\n",
       "      <td>NaN</td>\n",
       "      <td>NaN</td>\n",
       "      <td>自由</td>\n",
       "      <td>0</td>\n",
       "      <td>4</td>\n",
       "      <td>14</td>\n",
       "      <td>NaN</td>\n",
       "    </tr>\n",
       "  </tbody>\n",
       "</table>\n",
       "<p>5 rows × 59 columns</p>\n",
       "</div>"
      ],
      "text/plain": [
       "   t11  t12  t13  t14  t15  t2  t31  t32  t33  t41   ...     c17  c18  c19  \\\n",
       "0    0    0    1    1    0   1    1    0    1    3   ...       3    3    5   \n",
       "1    0    1    0    0    1   0    0    1    1    3   ...       2    4    4   \n",
       "2    1    0    1    0    0   2    0    1    1    3   ...       4    4    5   \n",
       "3    0    1    0    0    0   1    0    1    0    1   ...       3    3    3   \n",
       "4    0    1    1    0    0   2    0    1    1    3   ...       5    5    5   \n",
       "\n",
       "    c2   c3         c4  sex  age  job  jobElse  \n",
       "0  NaN  NaN       學以致用    0    3    3      NaN  \n",
       "1  NaN  NaN         便宜    0    3   11      NaN  \n",
       "2  NaN  NaN  能有一定的程度吸收    0    2    1      NaN  \n",
       "3  NaN  NaN       投資美股    0    4   12      NaN  \n",
       "4  NaN  NaN         自由    0    4   14      NaN  \n",
       "\n",
       "[5 rows x 59 columns]"
      ]
     },
     "execution_count": 37,
     "metadata": {},
     "output_type": "execute_result"
    }
   ],
   "source": [
    "df.head()"
   ]
  },
  {
   "cell_type": "markdown",
   "metadata": {},
   "source": [
    "# 【女人迷】計量分析實習生：實作任務"
   ]
  },
  {
   "cell_type": "markdown",
   "metadata": {},
   "source": [
    "### 2. 你想像中的經濟獨立是什麼樣子呢？"
   ]
  },
  {
   "cell_type": "markdown",
   "metadata": {},
   "source": [
    "#### 【變項說明】\n",
    "t11: 有一筆自己的獨立存款\n",
    "\n",
    "t12: 可以靠自己的力量購買所有想要的東西\n",
    "\n",
    "t13: 除了規律工作以外，還有其他的收入來源\n",
    "\n",
    "t14: 理解如何儲蓄與投資\n",
    "\n",
    "t15: 對於自己的收入來源有所掌握"
   ]
  },
  {
   "cell_type": "code",
   "execution_count": 38,
   "metadata": {},
   "outputs": [],
   "source": [
    "x = ['t11', 't12', 't13', 't14', 't15']\n",
    "y = df[x].mean()\n",
    "y.sort_values(ascending = False, inplace = True)"
   ]
  },
  {
   "cell_type": "code",
   "execution_count": 39,
   "metadata": {
    "scrolled": true
   },
   "outputs": [
    {
     "data": {
      "image/png": "[encoded data removed]",
      "text/plain": [
       "<Figure size 432x324 with 1 Axes>"
      ]
     },
     "metadata": {},
     "output_type": "display_data"
    }
   ],
   "source": [
    "fig1, ax = plt.subplots(figsize = (6, 4.5))\n",
    "ax.bar(y.index, y, color = 'xkcd:pastel blue')      \n",
    "fig1.text(0.475, 1, 'Figure 1', fontsize = 16)\n",
    "plt.tight_layout()"
   ]
  },
  {
   "cell_type": "markdown",
   "metadata": {},
   "source": [
    "#### 【圖表說明：Figure 1】\n",
    "本圖之 X 軸以問卷中第二題的多重選項為二元變項，分別編碼為 t11、t12、t13、t14、t15，\n",
    "\n",
    "Y 軸則是各變項的平均，相當於填答者選擇該選項的比例。"
   ]
  },
  {
   "cell_type": "markdown",
   "metadata": {},
   "source": [
    "#### 【發現與分析】\n",
    "1. 超過六成的填答者認為，經濟獨立是「t12: 可以靠自己的力量購買所有想要的東西」。\n",
    "\n",
    "2. 「t15: 對於自己的收入來源有所掌握」不在多數人想像中的經濟獨立，此選項只有不到三成的填答者選擇。\n",
    "\n",
    "3. 其餘三個選項皆有三到四成不等的填答者選擇。"
   ]
  },
  {
   "cell_type": "markdown",
   "metadata": {},
   "source": [
    "### 3. 你覺得自己目前是經濟獨立的嗎？"
   ]
  },
  {
   "cell_type": "markdown",
   "metadata": {},
   "source": [
    "#### 【變項說明】\n",
    "t2 = 0: 不是\n",
    "\n",
    "t2 = 1: 是\n",
    "\n",
    "t2 = 2: 正在尋找方法"
   ]
  },
  {
   "cell_type": "code",
   "execution_count": 40,
   "metadata": {},
   "outputs": [],
   "source": [
    "t2_Counts = df.t2.value_counts()\n",
    "\n",
    "total = t2_Counts.sum() \n",
    "labels = ['不是', '是', '正在尋找方法']\n",
    "sizes = [t2_Counts[0] / total, \n",
    "         t2_Counts[1] / total, \n",
    "         t2_Counts[2] / total]"
   ]
  },
  {
   "cell_type": "code",
   "execution_count": 41,
   "metadata": {},
   "outputs": [
    {
     "data": {
      "image/png": "[encoded data removed]",
      "text/plain": [
       "<Figure size 432x720 with 2 Axes>"
      ]
     },
     "metadata": {},
     "output_type": "display_data"
    }
   ],
   "source": [
    "fig2, ax2 = plt.subplots(2, 1, figsize = (6, 10))\n",
    "\n",
    "cmap = plt.get_cmap('Pastel1')\n",
    "\n",
    "ax2[0].pie(sizes, labels = labels,\n",
    "           colors = cmap(np.arange(3) * 1),\n",
    "           autopct = '%1.1f%%',\n",
    "           wedgeprops=dict(width = 0.45, edgecolor = 'w'))\n",
    "ax2[0].set(aspect = 'equal', \n",
    "           title = 'Figure 2: 你覺得自己目前是經濟獨立的嗎？')\n",
    "\n",
    "ax2[1] = sns.countplot(x = df.t2, palette = 'Pastel1')\n",
    "ax2[1].set(title = 'Figure 2-1: 經濟獨立次數分配圖')\n",
    "ax2[1].text(-0.13, 235, '22.1%', fontsize = 12)\n",
    "ax2[1].text(0.87, 385, '37.2%', fontsize = 12)\n",
    "ax2[1].text(1.87, 420, '40.7%', fontsize = 12)\n",
    "\n",
    "plt.tight_layout()\n",
    "plt.show()"
   ]
  },
  {
   "cell_type": "markdown",
   "metadata": {},
   "source": [
    "#### 【圖表說明：Figure 2 & Figure 2-1】\n",
    "Figure 2 統計問卷第 3 題的三個選項的次數分配，並換算成百分比後，以圓餅圖的方式呈現。\n",
    "\n",
    "Figure 2-1 則以問卷中第 3 題的三個選項：不是、是、正在尋找方法，並分別編碼為：0, 1, 2，作為 X 軸。Y 軸則是各變項之次數分配。\n"
   ]
  },
  {
   "cell_type": "markdown",
   "metadata": {},
   "source": [
    "#### 【發現與分析】\n",
    "1. 只有不到四成的填答者，認為自己已經達到經濟獨立。\n",
    "\n",
    "2. 另有四成的填答者正在尋找經濟獨立的方法，故可推測這類課程是市場上有需求的。"
   ]
  },
  {
   "cell_type": "markdown",
   "metadata": {},
   "source": [
    "### 4. 你想要學習投資理財的動機是什麼？"
   ]
  },
  {
   "cell_type": "markdown",
   "metadata": {},
   "source": [
    "#### 【變項說明】\n",
    "t31: 我想存錢\n",
    "\n",
    "t32: 我想有效運用手邊的每一分錢\n",
    "\n",
    "t33: 我想獲得更多的金錢\n",
    "\n",
    "三個變項的值皆為 0: 否，或 1: 是。 "
   ]
  },
  {
   "cell_type": "code",
   "execution_count": 42,
   "metadata": {},
   "outputs": [
    {
     "data": {
      "image/png": "[encoded data removed]",
      "text/plain": [
       "<Figure size 432x360 with 1 Axes>"
      ]
     },
     "metadata": {},
     "output_type": "display_data"
    }
   ],
   "source": [
    "x = ['t31', 't32', 't33']\n",
    "y = df[x].mean()\n",
    "y.sort_values(ascending = False, inplace = True)\n",
    "\n",
    "fig3, ax3 = plt.subplots(figsize = (6, 5))\n",
    "ax3.bar(y.index, y, color = 'xkcd:pastel blue')      \n",
    "ax3.set(title = 'Figure 3: 你想要學習投資理財的動機是什麼？',\n",
    "        ylabel = '百分比')\n",
    "\n",
    "plt.tight_layout()\n",
    "plt.show()"
   ]
  },
  {
   "cell_type": "markdown",
   "metadata": {},
   "source": [
    "#### 【圖表說明：Figure 3】\n",
    "Figure 3 統計問卷第 4 題的三個選項的次數分配，其平均即可視為同意該選項之百分比。\n",
    "\n",
    "長條圖的 X 軸即為三個選項：t31, t32, t33，Y 軸即為同意該選項之百分比。\n"
   ]
  },
  {
   "cell_type": "markdown",
   "metadata": {},
   "source": [
    "#### 【發現與分析】\n",
    "1. 約有四分之三的填答者都選了 t33:「我想獲得更多的金錢」這個選項。\n",
    "\n",
    "2. 接近六成的填答者想要學習投資理財的動機是 t32:「我想有效運用手邊的每一分錢」。\n",
    "\n",
    "3. 只有四成左右的填答者學習投資理財是為了存錢。\n",
    "\n",
    "4. 這項結果可以作為課程規劃上的參考。"
   ]
  },
  {
   "cell_type": "markdown",
   "metadata": {},
   "source": [
    "### 5. 對你來說，下列五個敘述你同意嗎？"
   ]
  },
  {
   "cell_type": "markdown",
   "metadata": {},
   "source": [
    "#### 【變項說明】\n",
    "\n",
    "五個選項分別編碼為 \n",
    "\n",
    "t41:「理財」和「投資」對我來說是一樣的意思\n",
    "\n",
    "t42: 我的數學不太好，所以也不太敢投資\n",
    "\n",
    "t43: 我的可支配所得不高，所以沒什麼好投資的\n",
    "\n",
    "t44: 投資理財有賺有賠，所以我寧可把錢存起來，比較沒風險\n",
    "\n",
    "t45: 我是上班族，沒有時間投資理財\n",
    "\n",
    "其值皆為介於 1 至 5 之間的整數，其意義為\n",
    "\n",
    "1: 非常不同意\n",
    "\n",
    "2: 不同意\n",
    "\n",
    "3: 普通\n",
    "\n",
    "4: 同意\n",
    "\n",
    "5: 非常同意\n",
    "\n",
    "透過每個變項的值來量化填答者對於各敘述的同意程度。"
   ]
  },
  {
   "cell_type": "code",
   "execution_count": 43,
   "metadata": {},
   "outputs": [],
   "source": [
    "def meanLikert(col):    # 計算李克特量表平均的函數\n",
    "    \n",
    "    mean = np.round(df[col].mean(), 2)    \n",
    "    # 將結果四捨五入至小數點第 2 位\n",
    "    \n",
    "    return '平均為 ' + str(mean)"
   ]
  },
  {
   "cell_type": "markdown",
   "metadata": {},
   "source": [
    "#### 「理財」和「投資」對我來說是一樣的意思"
   ]
  },
  {
   "cell_type": "code",
   "execution_count": 44,
   "metadata": {
    "scrolled": true
   },
   "outputs": [
    {
     "data": {
      "image/png": "[encoded data removed]",
      "text/plain": [
       "<Figure size 432x324 with 1 Axes>"
      ]
     },
     "metadata": {},
     "output_type": "display_data"
    },
    {
     "name": "stdout",
     "output_type": "stream",
     "text": [
      "平均為 2.63\n"
     ]
    }
   ],
   "source": [
    "fig41, ax41 = plt.subplots(figsize = (6, 4.5))\n",
    "\n",
    "fig41 = sns.countplot(x = df.t41, palette = 'Spectral')\n",
    "ax41.set(title = 'Figure 4-1: 「理財」和「投資」對我來說是一樣的意思')\n",
    "\n",
    "plt.tight_layout()\n",
    "plt.show()\n",
    "print(meanLikert('t41'))"
   ]
  },
  {
   "cell_type": "markdown",
   "metadata": {},
   "source": [
    "#### 【圖表說明：Figure 4-1】\n",
    "Figure 4-1 顯示五個選項的次數分配，\n",
    "\n",
    "X 軸為李克特量表的五個尺度，Y 軸為選擇該選項的人數。"
   ]
  },
  {
   "cell_type": "markdown",
   "metadata": {},
   "source": [
    "#### 【發現與分析】\n",
    "1. 以五個尺度的數值大小量化同意程度，加權平均得到 2.63。\n",
    "\n",
    "2. 代表平均而言，填答者對於這個敘述介於不同意至普通之間。\n",
    "\n",
    "3. 由圖可知眾數為 2，選擇「不同意」的人占多數，將近有 500 人。\n",
    "\n",
    "4. 有超過一半的填答者 (選擇「非常不同意」或「不同意」) 不認為「理財」等於「投資」。"
   ]
  },
  {
   "cell_type": "markdown",
   "metadata": {},
   "source": [
    "#### 我的數學不太好，所以也不太敢投資"
   ]
  },
  {
   "cell_type": "code",
   "execution_count": 45,
   "metadata": {},
   "outputs": [
    {
     "data": {
      "image/png": "[encoded data removed]",
      "text/plain": [
       "<Figure size 432x324 with 1 Axes>"
      ]
     },
     "metadata": {},
     "output_type": "display_data"
    },
    {
     "name": "stdout",
     "output_type": "stream",
     "text": [
      "平均為 2.68\n"
     ]
    }
   ],
   "source": [
    "fig42, ax42 = plt.subplots(figsize = (6, 4.5))\n",
    "\n",
    "fig42 = sns.countplot(x = df.t42, palette = 'Spectral')\n",
    "ax42.set(title = 'Figure 4-2: 我的數學不太好，所以也不太敢投資')\n",
    "\n",
    "plt.tight_layout()\n",
    "plt.show()\n",
    "print(meanLikert('t42'))"
   ]
  },
  {
   "cell_type": "markdown",
   "metadata": {},
   "source": [
    "#### 【圖表說明：Figure 4-2】\n",
    "Figure 4-2 顯示五個選項的次數分配，\n",
    "\n",
    "X 軸為李克特量表的五個尺度，Y 軸為選擇該選項的人數。"
   ]
  },
  {
   "cell_type": "markdown",
   "metadata": {},
   "source": [
    "#### 【發現與分析】\n",
    "1. 以五個尺度的數值大小量化同意程度，加權平均得到 2.68。\n",
    "\n",
    "2. 代表平均而言，填答者對於這個敘述介於不同意至普通之間。\n",
    "\n",
    "3. 由圖可知眾數為 2，選擇「不同意」的人占相對多數，其人數約等同於選擇「同意」或「非常同意」的人數之和。"
   ]
  },
  {
   "cell_type": "markdown",
   "metadata": {},
   "source": [
    "#### 我的可支配所得不高，所以沒什麼好投資的"
   ]
  },
  {
   "cell_type": "code",
   "execution_count": 46,
   "metadata": {},
   "outputs": [
    {
     "data": {
      "image/png": "[encoded data removed]",
      "text/plain": [
       "<Figure size 432x324 with 1 Axes>"
      ]
     },
     "metadata": {},
     "output_type": "display_data"
    },
    {
     "name": "stdout",
     "output_type": "stream",
     "text": [
      "平均為 2.92\n"
     ]
    }
   ],
   "source": [
    "fig43, ax43 = plt.subplots(figsize = (6, 4.5))\n",
    "\n",
    "fig43 = sns.countplot(x = df.t43, palette = 'Spectral')\n",
    "ax43.set(title = 'Figure 4-3: 我的可支配所得不高，所以沒什麼好投資的')\n",
    "\n",
    "plt.tight_layout()\n",
    "plt.show()\n",
    "print(meanLikert('t43'))"
   ]
  },
  {
   "cell_type": "markdown",
   "metadata": {},
   "source": [
    "#### 【圖表說明：Figure 4-3】\n",
    "Figure 4-3 顯示五個選項的次數分配，\n",
    "\n",
    "X 軸為李克特量表的五個尺度，Y 軸為選擇該選項的人數。"
   ]
  },
  {
   "cell_type": "markdown",
   "metadata": {},
   "source": [
    "#### 【發現與分析】\n",
    "1. 以五個尺度的數值大小量化同意程度，加權平均得到 2.92。\n",
    "\n",
    "2. 由圖可發現，不同意 (1 + 2) 與同意 (4 + 5) 的填答者比例相當。"
   ]
  },
  {
   "cell_type": "markdown",
   "metadata": {},
   "source": [
    "#### 投資理財有賺有賠，所以我寧可把錢存起來，比較沒風險"
   ]
  },
  {
   "cell_type": "code",
   "execution_count": 47,
   "metadata": {},
   "outputs": [
    {
     "data": {
      "image/png": "[encoded data removed]",
      "text/plain": [
       "<Figure size 432x324 with 1 Axes>"
      ]
     },
     "metadata": {},
     "output_type": "display_data"
    },
    {
     "name": "stdout",
     "output_type": "stream",
     "text": [
      "平均為 2.65\n"
     ]
    }
   ],
   "source": [
    "fig44, ax44 = plt.subplots(figsize = (6, 4.5))\n",
    "\n",
    "fig44 = sns.countplot(x = df.t44, palette = 'Spectral')\n",
    "ax44.set(title = 'Figure 4-4: 投資理財有賺有賠，所以我寧可把錢存起來，比較沒風險')\n",
    "\n",
    "plt.tight_layout()\n",
    "plt.show()\n",
    "print(meanLikert('t44'))"
   ]
  },
  {
   "cell_type": "markdown",
   "metadata": {},
   "source": [
    "#### 【圖表說明：Figure 4-4】\n",
    "Figure 4-4 顯示五個選項的次數分配，\n",
    "\n",
    "X 軸為李克特量表的五個尺度，Y 軸為選擇該選項的人數。"
   ]
  },
  {
   "cell_type": "markdown",
   "metadata": {},
   "source": [
    "#### 【發現與分析】\n",
    "1. 以五個尺度的數值大小量化同意程度，加權平均得到 2.65，介於「不同意」與「普通」之間。\n",
    "\n",
    "2. 由圖可發現，不同意 (1 + 2) 的填答者遠多於同意 (4 + 5)。"
   ]
  },
  {
   "cell_type": "markdown",
   "metadata": {},
   "source": [
    "#### 我是上班族，沒有時間投資理財"
   ]
  },
  {
   "cell_type": "code",
   "execution_count": 48,
   "metadata": {},
   "outputs": [
    {
     "data": {
      "image/png": "[encoded data removed]",
      "text/plain": [
       "<Figure size 432x324 with 1 Axes>"
      ]
     },
     "metadata": {},
     "output_type": "display_data"
    },
    {
     "name": "stdout",
     "output_type": "stream",
     "text": [
      "平均為 2.44\n"
     ]
    }
   ],
   "source": [
    "fig45, ax45 = plt.subplots(figsize = (6, 4.5))\n",
    "\n",
    "fig45 = sns.countplot(x = df.t45, palette = 'Spectral')\n",
    "ax45.set(title = 'Figure 4-5: 我是上班族，沒有時間投資理財')\n",
    "\n",
    "plt.tight_layout()\n",
    "plt.show()\n",
    "print(meanLikert('t45'))"
   ]
  },
  {
   "cell_type": "markdown",
   "metadata": {},
   "source": [
    "#### 【圖表說明：Figure 4-5】\n",
    "Figure 4-5 顯示五個選項的次數分配，\n",
    "\n",
    "X 軸為李克特量表的五個尺度，Y 軸為選擇該選項的人數。"
   ]
  },
  {
   "cell_type": "markdown",
   "metadata": {},
   "source": [
    "#### 【發現與分析】\n",
    "1. 以五個尺度的數值大小量化同意程度，加權平均得到 2.44，介於「不同意」與「普通」之間。\n",
    "\n",
    "2. 由圖可發現，不同意 (1 + 2) 的填答者多於同意 (4 + 5)。"
   ]
  },
  {
   "cell_type": "markdown",
   "metadata": {},
   "source": [
    "### 7. 想要先了解你目前的年薪狀況是如何呢？"
   ]
  },
  {
   "cell_type": "markdown",
   "metadata": {},
   "source": [
    "#### 【變項說明】\n",
    "本題變項為 income，其值為 1-9 的整數，\n",
    "\n",
    "其代表各個年薪區間的選項，如下，\n",
    "\n",
    "1: 300,000 以下\n",
    "\n",
    "2: 300,001~400,000\n",
    "\n",
    "3: 400,001~500,000\n",
    "\n",
    "4: 500,001~600,000\n",
    "\n",
    "5: 600,001~700,000\n",
    "\n",
    "6: 700,001~800,000\n",
    "\n",
    "7: 800,001~900,000\n",
    "\n",
    "8: 900,001~1,000,000\n",
    "\n",
    "9: 1,000,000 以上\n"
   ]
  },
  {
   "cell_type": "code",
   "execution_count": 49,
   "metadata": {},
   "outputs": [
    {
     "name": "stderr",
     "output_type": "stream",
     "text": [
      "C:\\Users\\hp-1\\Anaconda3\\lib\\site-packages\\matplotlib\\axes\\_axes.py:6462: UserWarning: The 'normed' kwarg is deprecated, and has been replaced by the 'density' kwarg.\n",
      "  warnings.warn(\"The 'normed' kwarg is deprecated, and has been \"\n"
     ]
    },
    {
     "data": {
      "image/png": "[encoded data removed]",
      "text/plain": [
       "<Figure size 432x324 with 1 Axes>"
      ]
     },
     "metadata": {},
     "output_type": "display_data"
    }
   ],
   "source": [
    "fig5, ax5 = plt.subplots(figsize = (6, 4.5))\n",
    "\n",
    "fig5 = sns.distplot(df.income, bins = 9, kde = False,\n",
    "                      color = 'orange')\n",
    "ax5.set(title = 'Figure 5: 年薪分組次數分配圖')\n",
    "\n",
    "plt.tight_layout()\n",
    "plt.show()"
   ]
  },
  {
   "cell_type": "markdown",
   "metadata": {},
   "source": [
    "#### 【圖表說明：Figure 5】\n",
    "Figure 5 顯示年薪分組的次數分配，\n",
    "\n",
    "X 軸為以 1-9 編碼的年薪組別，Y 軸為該組的人數。"
   ]
  },
  {
   "cell_type": "markdown",
   "metadata": {},
   "source": [
    "#### 【發現與分析】\n",
    "1. 大致上隨著年薪愈高，人數遞減\n",
    "\n",
    "2. 眾數為年薪 300,000 以下的第 1 組，約佔總人數的三分之一"
   ]
  },
  {
   "cell_type": "markdown",
   "metadata": {},
   "source": [
    "### 8. 目前一個月的可支配所得是多少呢？"
   ]
  },
  {
   "cell_type": "markdown",
   "metadata": {},
   "source": [
    "#### 【變項說明】\n",
    "本題變項為 di，其值為 1-7 的整數，\n",
    "\n",
    "與 97，其代表各個存款區間的選項，如下，\n",
    "\n",
    "1: 5,000 以下\n",
    "\n",
    "2: 5,001~10,000\n",
    "\n",
    "3: 10,001~20,000\n",
    "\n",
    "4: 20,001~30,000\n",
    "\n",
    "5: 30,001~40,000\n",
    "\n",
    "6: 40,001~50,000\n",
    "\n",
    "7: 50,000 以上\n",
    "\n",
    "97: 沒有特別計算"
   ]
  },
  {
   "cell_type": "code",
   "execution_count": 50,
   "metadata": {},
   "outputs": [],
   "source": [
    "df_di = df[df.di != 97]    #排除選擇「沒有特別計算」的人"
   ]
  },
  {
   "cell_type": "code",
   "execution_count": 51,
   "metadata": {},
   "outputs": [
    {
     "name": "stderr",
     "output_type": "stream",
     "text": [
      "C:\\Users\\hp-1\\Anaconda3\\lib\\site-packages\\matplotlib\\axes\\_axes.py:6462: UserWarning: The 'normed' kwarg is deprecated, and has been replaced by the 'density' kwarg.\n",
      "  warnings.warn(\"The 'normed' kwarg is deprecated, and has been \"\n"
     ]
    },
    {
     "data": {
      "image/png": "[encoded data removed]",
      "text/plain": [
       "<Figure size 432x324 with 1 Axes>"
      ]
     },
     "metadata": {},
     "output_type": "display_data"
    }
   ],
   "source": [
    "fig6, ax6 = plt.subplots(figsize = (6, 4.5))\n",
    "\n",
    "fig6 = sns.distplot(df_di.di, bins = 7, kde = False)\n",
    "ax6.set(title = 'Figure 6: 月可支配所得分組次數分配圖')\n",
    "\n",
    "plt.tight_layout()\n",
    "plt.show()"
   ]
  },
  {
   "cell_type": "markdown",
   "metadata": {},
   "source": [
    "#### 【圖表說明：Figure 6】\n",
    "Figure 6 顯示一個月可支配所得的分組次數分配，\n",
    "\n",
    "並排除選擇「沒有特別計算」的資料，\n",
    "\n",
    "X 軸為以 1-7 編碼的可支配所得之組別，Y 軸為該組的人數。"
   ]
  },
  {
   "cell_type": "markdown",
   "metadata": {},
   "source": [
    "#### 【發現與分析】\n",
    "1. 大致上隨著年薪愈高，人數遞減。\n",
    "\n",
    "2. 眾數為 10,001-20,000 的第 3 組，第 2 組 5,001-10,000 的人數也相當接近第 3 組。\n",
    "\n",
    "3. 約有四分之三的人一個月可支配所得不到 20,000。\n",
    "\n",
    "4. 根據 2. 與 3.，可以作為課程主題與收費的參考依據。"
   ]
  },
  {
   "cell_type": "markdown",
   "metadata": {},
   "source": [
    "### 9. 如果可以，一個月願意用多少可支配所得比例來投資？"
   ]
  },
  {
   "cell_type": "markdown",
   "metadata": {},
   "source": [
    "#### 【變項說明】\n",
    "本題變項為 diPercent，其值為 1-6 的整數，\n",
    "\n",
    "與 97，其代表各個存款區間的選項，如下，\n",
    "\n",
    "1: 10% 以下\n",
    "\n",
    "2: 11~20 %\n",
    "\n",
    "3: 21~30 %\n",
    "\n",
    "4: 31~40 %\n",
    "\n",
    "5: 41~50 %\n",
    "\n",
    "6: 50% 以上\n",
    "\n",
    "97: 沒有特別想法"
   ]
  },
  {
   "cell_type": "code",
   "execution_count": 52,
   "metadata": {},
   "outputs": [],
   "source": [
    "df_diPercent = df[(df.diPercent != 97) & (df.diPercent != 0)]"
   ]
  },
  {
   "cell_type": "code",
   "execution_count": 53,
   "metadata": {
    "scrolled": true
   },
   "outputs": [
    {
     "name": "stderr",
     "output_type": "stream",
     "text": [
      "C:\\Users\\hp-1\\Anaconda3\\lib\\site-packages\\matplotlib\\axes\\_axes.py:6462: UserWarning: The 'normed' kwarg is deprecated, and has been replaced by the 'density' kwarg.\n",
      "  warnings.warn(\"The 'normed' kwarg is deprecated, and has been \"\n"
     ]
    },
    {
     "data": {
      "image/png": "[encoded data removed]",
      "text/plain": [
       "<Figure size 432x324 with 1 Axes>"
      ]
     },
     "metadata": {},
     "output_type": "display_data"
    }
   ],
   "source": [
    "fig7, ax7 = plt.subplots(figsize = (6, 4.5))\n",
    "\n",
    "fig7 = sns.distplot(df_diPercent.diPercent, \n",
    "                    bins = 6, kde = False,\n",
    "                    color = 'orange')\n",
    "ax7.set(title = 'Figure 7: 可支配所得比例之分組次數分配圖')\n",
    "\n",
    "plt.tight_layout()\n",
    "plt.show()"
   ]
  },
  {
   "cell_type": "markdown",
   "metadata": {},
   "source": [
    "#### 【圖表說明：Figure 7】\n",
    "Figure 7 顯示選擇各區間的次數分配，\n",
    "\n",
    "並排除選擇「沒有特別想法」的資料，\n",
    "\n",
    "X 軸為以 1-6 編碼的組別，Y 軸為該組的人數。"
   ]
  },
  {
   "cell_type": "markdown",
   "metadata": {},
   "source": [
    "#### 【發現與分析】\n",
    "1.  眾數為第 2 組，約有三分之一的人願意投入 11-20% 的可支配所得來投資。\n",
    " \n",
    "2. 超過一半的人，願意投入 20% 以下的可支配所得來投資。\n",
    "\n",
    "3. 約有八成的人，願意投入 30% 以下的可支配所得來投資。\n",
    "\n",
    "4. 以上結果可以作為課程主題與收費的參考依據。"
   ]
  },
  {
   "cell_type": "markdown",
   "metadata": {},
   "source": [
    "### 10. 目前手邊所擁有的存款是多少呢？"
   ]
  },
  {
   "cell_type": "markdown",
   "metadata": {},
   "source": [
    "#### 【變項說明】\n",
    "本題變項為 s0，其值為 1-9 的整數，\n",
    "\n",
    "與 97，其代表各個存款區間的選項，如下，\n",
    "\n",
    "1: 10 萬以下\n",
    "\n",
    "2: 10~30 萬\n",
    "\n",
    "3: 31~50 萬\n",
    "\n",
    "4: 51~70 萬\n",
    "\n",
    "5: 71~90 萬\n",
    "\n",
    "6: 91~100 萬\n",
    "\n",
    "7: 100~150 萬\n",
    "\n",
    "8: 151~200 萬\n",
    "\n",
    "9: 200 萬以上\n",
    "\n",
    "97: 沒有特別計算"
   ]
  },
  {
   "cell_type": "code",
   "execution_count": 54,
   "metadata": {},
   "outputs": [],
   "source": [
    "df_s0 = df[df.s0 != 97]"
   ]
  },
  {
   "cell_type": "code",
   "execution_count": 55,
   "metadata": {
    "scrolled": true
   },
   "outputs": [
    {
     "name": "stderr",
     "output_type": "stream",
     "text": [
      "C:\\Users\\hp-1\\Anaconda3\\lib\\site-packages\\matplotlib\\axes\\_axes.py:6462: UserWarning: The 'normed' kwarg is deprecated, and has been replaced by the 'density' kwarg.\n",
      "  warnings.warn(\"The 'normed' kwarg is deprecated, and has been \"\n"
     ]
    },
    {
     "data": {
      "image/png": "[encoded data removed]",
      "text/plain": [
       "<Figure size 432x324 with 1 Axes>"
      ]
     },
     "metadata": {},
     "output_type": "display_data"
    }
   ],
   "source": [
    "fig8, ax8 = plt.subplots(figsize = (6, 4.5))\n",
    "\n",
    "fig8 = sns.distplot(df_s0.s0, bins = 9, kde = False)\n",
    "ax8.set(title = 'Figure 8: 存款分組次數分配圖')\n",
    "\n",
    "plt.tight_layout()\n",
    "plt.show()"
   ]
  },
  {
   "cell_type": "markdown",
   "metadata": {},
   "source": [
    "#### 【圖表說明：Figure 8】\n",
    "Figure 8 顯示目前存款的分組次數分配，\n",
    "\n",
    "並排除選擇「沒有特別計算」的資料，\n",
    "\n",
    "X 軸為以 1-9 編碼的存款區間分組，Y 軸為該組的人數。"
   ]
  },
  {
   "cell_type": "markdown",
   "metadata": {},
   "source": [
    "#### 【發現與分析】\n",
    "1. 眾數為第 1 組，約有將近一半的人存款不到 10 萬。\n",
    " \n",
    "2. 約有七成的人，存款不到 30 萬。\n",
    "\n",
    "3. 以上結果可以作為課程規劃的參考依據。"
   ]
  },
  {
   "cell_type": "markdown",
   "metadata": {},
   "source": [
    "### 11. 個人資產 / 存款的主要來源是來自？"
   ]
  },
  {
   "cell_type": "markdown",
   "metadata": {},
   "source": [
    "#### 【變項說明】\n",
    "本題變項為 s11、s12、s13、s14，其代表各選項如下，\n",
    "\n",
    "s11: 儲蓄\n",
    "\n",
    "s12: 投資\n",
    "\n",
    "s13: 親友贈與\n",
    "\n",
    "s14: 其他\n",
    "\n",
    "其值皆為 0 或 1，\n",
    "\n",
    "0: 否，1: 是。"
   ]
  },
  {
   "cell_type": "code",
   "execution_count": 56,
   "metadata": {},
   "outputs": [
    {
     "data": {
      "image/png": "[encoded data removed]",
      "text/plain": [
       "<Figure size 432x324 with 1 Axes>"
      ]
     },
     "metadata": {},
     "output_type": "display_data"
    }
   ],
   "source": [
    "x = ['s11', 's12', 's13', 's14']\n",
    "y = df[x].mean()\n",
    "\n",
    "fig9, ax9 = plt.subplots(figsize = (6, 4.5))\n",
    "ax9.bar(x, y, color = 'xkcd:pastel blue')      \n",
    "ax9.set(title = 'Figure 9: 個人資產 / 存款的主要來源是來自？',\n",
    "        ylabel = '百分比')\n",
    "\n",
    "plt.tight_layout()\n",
    "plt.show()"
   ]
  },
  {
   "cell_type": "markdown",
   "metadata": {},
   "source": [
    "#### 【圖表說明：Figure 9】\n",
    "Figure 9 顯示各選項選擇「是」的比例，\n",
    "\n",
    "X 軸為各選項，Y 軸為選擇「是」的百分比。"
   ]
  },
  {
   "cell_type": "markdown",
   "metadata": {},
   "source": [
    "#### 【發現與分析】\n",
    "1. 超過 9 成的個人資產/存款來源是「儲蓄」。\n",
    " \n",
    "2. 個人資產/存款來自「投資」的只有 2 成多一點。\n",
    "\n",
    "3. 由 2. 對照下一題 (i10) 的結果，有投資的人約有 55%，可以推論即使有在投資，也無法帶給多數人穩定的獲利，而使資產或存款有效增加。"
   ]
  },
  {
   "cell_type": "markdown",
   "metadata": {},
   "source": [
    "### 12. 你現在有在投資嗎？如果有，主要投資方式為何呢？【複選】"
   ]
  },
  {
   "cell_type": "markdown",
   "metadata": {},
   "source": [
    "#### 【變項說明】\n",
    "i10: 沒有\n",
    "\n",
    "i11: 有，股票\n",
    "\n",
    "i12: 有，保險\n",
    "\n",
    "i13: 有，基金\n",
    "\n",
    "i14: 有，外幣\n",
    "\n",
    "i15: 有，房地產\n",
    "\n",
    "i16: 其他\n",
    "\n",
    "其值皆為 0 或 1，\n",
    "\n",
    "0: 否，1: 是。"
   ]
  },
  {
   "cell_type": "code",
   "execution_count": 57,
   "metadata": {},
   "outputs": [
    {
     "data": {
      "image/png": "[encoded data removed]",
      "text/plain": [
       "<Figure size 432x324 with 1 Axes>"
      ]
     },
     "metadata": {},
     "output_type": "display_data"
    }
   ],
   "source": [
    "x = ['i10', 'i11', 'i12', 'i13', 'i14', 'i15', 'i16']\n",
    "y = df[x].mean()\n",
    "y.sort_values(ascending = False, inplace = True)\n",
    "\n",
    "fig10, ax10 = plt.subplots(figsize = (6, 4.5))\n",
    "ax10.bar(y.index, y, color = 'xkcd:pastel blue')      \n",
    "ax10.set(title = 'Figure 10: 你現在有在投資嗎？如果有，主要投資方式為何呢？',\n",
    "         ylabel = '百分比')\n",
    "\n",
    "plt.tight_layout()\n",
    "plt.show()"
   ]
  },
  {
   "cell_type": "markdown",
   "metadata": {},
   "source": [
    "#### 【圖表說明：Figure 10】\n",
    "Figure 10 顯示問卷第 12 題中，該選項被選擇的比例，\n",
    "\n",
    "X 軸為各選項，Y 軸為選擇該選項的百分比。"
   ]
  },
  {
   "cell_type": "markdown",
   "metadata": {},
   "source": [
    "#### 【發現與分析】\n",
    "1. 約有 45% 的人目前沒有在投資 (i10)。\n",
    " \n",
    "2. 有在投資的人之中，有接近三成的人投資保險 (i12)。 \n",
    "\n",
    "3. 另有四分之一的人有投資股票 (i11)。\n",
    "\n",
    "4. 有投資基金 (i13) 或外幣 (i14) 的人約佔 10-15%。\n",
    "\n",
    "5. 有投資房地產 (i15) 的人不到 5%。"
   ]
  },
  {
   "cell_type": "markdown",
   "metadata": {},
   "source": [
    "### 13. 你沒有投資的原因為何呢？【複選】(上題選「沒有」者才填答)"
   ]
  },
  {
   "cell_type": "markdown",
   "metadata": {},
   "source": [
    "#### 【變項說明】\n",
    "i21: 時間不足\n",
    "\n",
    "i22: 資金不足\n",
    "\n",
    "i23: 對投資知識了解不足\n",
    "\n",
    "i24: 有投資過，但沒有得到理想成果\n",
    "\n",
    "i25: 其他\n",
    "\n",
    "其值皆為 0 或 1，\n",
    "\n",
    "0: 否，1: 是。"
   ]
  },
  {
   "cell_type": "code",
   "execution_count": 58,
   "metadata": {
    "scrolled": true
   },
   "outputs": [
    {
     "data": {
      "image/png": "[encoded data removed]",
      "text/plain": [
       "<Figure size 432x324 with 1 Axes>"
      ]
     },
     "metadata": {},
     "output_type": "display_data"
    }
   ],
   "source": [
    "x = ['i21', 'i22', 'i23', 'i24', 'i25']\n",
    "y = df[x].mean()\n",
    "y.sort_values(ascending = False, inplace = True)\n",
    "\n",
    "fig11, ax11 = plt.subplots(figsize = (6, 4.5))\n",
    "ax11.bar(y.index, y, color = 'xkcd:pastel blue')      \n",
    "ax11.set(title = 'Figure 11: 你沒有投資的原因為何呢？',\n",
    "         ylabel = '百分比')\n",
    "\n",
    "plt.tight_layout()\n",
    "plt.show()"
   ]
  },
  {
   "cell_type": "markdown",
   "metadata": {},
   "source": [
    "#### 【圖表說明：Figure 11】\n",
    "Figure 11 顯示問卷第 13 題中，該選項被選擇的比例，\n",
    "\n",
    "X 軸為各選項，Y 軸為選擇該選項的百分比。"
   ]
  },
  {
   "cell_type": "markdown",
   "metadata": {},
   "source": [
    "#### 【發現與分析】\n",
    "1. 約有 35% 的人認為自己因為對投資知識了解不足 (i23)，所以沒有投資。\n",
    " \n",
    "2. 另有超過四分之一的人認為自己因為資金不足而沒有投資 (i22)。 \n",
    "\n",
    "3. 只有約 2% 的人是因為過去投資經驗不理想 (i24) 而目前沒有在投資。"
   ]
  },
  {
   "cell_type": "markdown",
   "metadata": {},
   "source": [
    "### 14. 你現在有記帳的習慣嗎？"
   ]
  },
  {
   "cell_type": "markdown",
   "metadata": {},
   "source": [
    "#### 【變項說明】\n",
    "t2 = 0: 沒有\n",
    "\n",
    "t2 = 1: 有\n",
    "\n",
    "t2 = 2: 正在尋找方法"
   ]
  },
  {
   "cell_type": "code",
   "execution_count": 59,
   "metadata": {},
   "outputs": [],
   "source": [
    "track_Counts = df.track.value_counts()\n",
    "\n",
    "total = track_Counts.sum() \n",
    "labels = ['沒有', '有', '正在尋找方法']\n",
    "sizes = [track_Counts[0] / total, \n",
    "         track_Counts[1] / total, \n",
    "         track_Counts[2] / total]"
   ]
  },
  {
   "cell_type": "code",
   "execution_count": 60,
   "metadata": {},
   "outputs": [
    {
     "data": {
      "image/png": "[encoded data removed]",
      "text/plain": [
       "<Figure size 432x720 with 2 Axes>"
      ]
     },
     "metadata": {},
     "output_type": "display_data"
    }
   ],
   "source": [
    "fig12, ax12 = plt.subplots(2, 1, figsize = (6, 10))\n",
    "\n",
    "cmap = plt.get_cmap('Pastel1')\n",
    "\n",
    "ax12[0].pie(sizes, labels = labels,\n",
    "            colors = cmap(np.arange(3) * 1),\n",
    "            autopct = '%1.1f%%',\n",
    "            wedgeprops=dict(width = 0.45, edgecolor = 'w'))\n",
    "ax12[0].set(aspect = 'equal', \n",
    "            title = 'Figure 12: 你現在有記帳的習慣嗎？')\n",
    "\n",
    "ax12[1] = sns.countplot(x = df.track, palette = 'Pastel1')\n",
    "ax12[1].set(title = 'Figure 12-1: 記帳習慣次數分配圖')\n",
    "\n",
    "plt.tight_layout()\n",
    "plt.show()"
   ]
  },
  {
   "cell_type": "markdown",
   "metadata": {},
   "source": [
    "#### 【圖表說明：Figure 12 & Figure 12-1】\n",
    "Figure 12 以圓餅圖呈現問卷第 14 題中，該選項被選擇的比例。\n",
    "\n",
    "Figure 12-1 則是以長條圖顯示各選項被選擇的次數分配，\n",
    "\n",
    "X 軸為各選項，Y 軸為選擇該選項的人數。"
   ]
  },
  {
   "cell_type": "markdown",
   "metadata": {},
   "source": [
    "#### 【發現與分析】\n",
    "1. 約一半的填答者有記帳習慣，接近 35% 的人則沒有。\n",
    " \n",
    "2. 另有 16.2% 的人正在尋找方法養成記帳習慣。"
   ]
  },
  {
   "cell_type": "markdown",
   "metadata": {},
   "source": [
    "### 15. 以下六種敘述，哪個最符合你的投資理財情形呢？"
   ]
  },
  {
   "cell_type": "markdown",
   "metadata": {},
   "source": [
    "#### 【變項說明】\n",
    "\n",
    "i3 = 1: 常常不知不覺就把錢花掉\n",
    "\n",
    "i3 = 2: 只會把錢存起來，不懂投資理財\n",
    "\n",
    "i3 = 3: 只會理財，但不懂投資\n",
    "\n",
    "i3 = 4: 有在投資，但沒有穩定獲益\n",
    "\n",
    "i3 = 5: 有投資，也有穩定獲益\n",
    "\n",
    "i3 = 77: 其他"
   ]
  },
  {
   "cell_type": "code",
   "execution_count": 61,
   "metadata": {},
   "outputs": [],
   "source": [
    "i3_Counts = df.i3.value_counts()\n",
    "\n",
    "total = i3_Counts.sum() \n",
    "labels = ['常常不知不覺就把錢花掉', \n",
    "          '只會把錢存起來，不懂投資理財',\n",
    "          '有在投資，但沒有穩定獲益',\n",
    "          '只會理財，但不懂投資',\n",
    "          '有投資，也有穩定獲益',\n",
    "          '其他']\n",
    "sizes = [i3_Counts[1] / total, \n",
    "         i3_Counts[2] / total, \n",
    "         i3_Counts[4] / total,\n",
    "         i3_Counts[3] / total,\n",
    "         i3_Counts[5] / total,\n",
    "         i3_Counts[77] / total]"
   ]
  },
  {
   "cell_type": "code",
   "execution_count": 62,
   "metadata": {},
   "outputs": [
    {
     "data": {
      "image/png": "[encoded data removed]",
      "text/plain": [
       "<Figure size 432x720 with 2 Axes>"
      ]
     },
     "metadata": {},
     "output_type": "display_data"
    }
   ],
   "source": [
    "fig13, axarr = plt.subplots(2, 1, figsize = (6, 10))\n",
    "\n",
    "cmap = plt.get_cmap('Pastel1')\n",
    "\n",
    "axarr[0].pie(sizes, labels = labels,\n",
    "             colors = cmap(np.arange(6) * 1),\n",
    "             autopct = '%1.1f%%',\n",
    "             wedgeprops=dict(width = 0.45, edgecolor = 'w'))\n",
    "axarr[0].set(aspect = 'equal', \n",
    "             title = 'Figure 13: 以下六種敘述，哪個最符合你的投資理財情形呢？')\n",
    "\n",
    "axarr[1] = sns.countplot(x = df.i3, \n",
    "                         palette = 'Pastel1',\n",
    "                         order = df.i3.value_counts().index)\n",
    "axarr[1].set(title = 'Figure 13-1: 投資理財情形次數分配圖',\n",
    "             xlabel = '投資理財情形')\n",
    "\n",
    "plt.tight_layout()\n",
    "plt.show()"
   ]
  },
  {
   "cell_type": "markdown",
   "metadata": {},
   "source": [
    "#### 【圖表說明：Figure 13 & Figure 13-1】\n",
    "Figure 13 以圓餅圖呈現問卷第 15 題中，該選項被選擇的比例。\n",
    "\n",
    "Figure 13-1 則是以長條圖顯示各選項被選擇的次數分配，\n",
    "\n",
    "X 軸為各選項，Y 軸為選擇該選項的人數。"
   ]
  },
  {
   "cell_type": "markdown",
   "metadata": {},
   "source": [
    "#### 【發現與分析】\n",
    "1. 35% 左右的填答者「常常不知不覺就把錢花掉」。\n",
    " \n",
    "2. 約有三成的填答者「只會把錢存起來，不懂投資理財」。\n",
    "\n",
    "3. 另有 17% 左右的填答者「有在投資，但沒有穩定獲益」。\n",
    "\n",
    "4. 此外，有 10% 的填答者「只會投資，但不懂理財」。"
   ]
  },
  {
   "cell_type": "markdown",
   "metadata": {},
   "source": [
    "### 16. 目前自己在投資理財方面，所碰到的困難是？【複選】"
   ]
  },
  {
   "cell_type": "markdown",
   "metadata": {},
   "source": [
    "#### 【變項說明】\n",
    "i40: 沒有碰到困難\n",
    "\n",
    "i41: 資訊太少\n",
    "\n",
    "i42: 資訊太多，不知如何分辨正確性\n",
    "\n",
    "i43: 資訊太多，不知哪些適合自己\n",
    "\n",
    "i44: 學到的無法應用在自己身上\n",
    "\n",
    "i45: 應用後沒有得到期望效果\n",
    "\n",
    "i46: 其他\n",
    "\n",
    "其值皆為 0 或 1，代表是否有選此選項，\n",
    "\n",
    "0: 否，1: 是。"
   ]
  },
  {
   "cell_type": "code",
   "execution_count": 63,
   "metadata": {},
   "outputs": [
    {
     "data": {
      "image/png": "[encoded data removed]",
      "text/plain": [
       "<Figure size 432x324 with 1 Axes>"
      ]
     },
     "metadata": {},
     "output_type": "display_data"
    }
   ],
   "source": [
    "x = ['i40', 'i41', 'i42', 'i43', 'i44', 'i45', 'i46']\n",
    "y = df[x].mean()\n",
    "y.sort_values(ascending = False, inplace = True)\n",
    "\n",
    "fig14, ax14 = plt.subplots(figsize = (6, 4.5))\n",
    "ax14.bar(y.index, y, color = 'xkcd:pastel blue')      \n",
    "ax14.set(title = 'Figure 14: 目前自己在投資理財方面，所碰到的困難是？',\n",
    "         ylabel = '百分比')\n",
    "\n",
    "plt.tight_layout()\n",
    "plt.show()"
   ]
  },
  {
   "cell_type": "markdown",
   "metadata": {},
   "source": [
    "#### 【圖表說明：Figure 14】\n",
    "Figure 14 以長條圖顯示各選項被選擇的次數分配，\n",
    "\n",
    "X 軸為各選項，Y 軸為選擇該選項的百分比。"
   ]
  },
  {
   "cell_type": "markdown",
   "metadata": {},
   "source": [
    "### 【發現與分析】\n",
    "1. 有六成左右的填答者碰到的困難是「資訊太多，不知哪些適合自己」。\n",
    " \n",
    "2. 超過五成的填答者困難在於「資訊太多，不知如何分辨正確性」。\n",
    "\n",
    "3. 另有接近兩成的填答者認為「學到的無法應用在自己身上」。\n",
    "\n",
    "4. 只有約 5% 的填答者認為自己「沒有碰到困難」。\n",
    "\n",
    "5. 這可能是決定課程內容重要的指標之一，再交叉表分析選擇各選項的是什麼樣的人，就可以找到目標客群。"
   ]
  },
  {
   "cell_type": "markdown",
   "metadata": {},
   "source": [
    "### 18. 你對什麼類型的經濟課程感興趣呢？"
   ]
  },
  {
   "cell_type": "markdown",
   "metadata": {},
   "source": [
    "#### 【變項說明】\n",
    "\n",
    "9 個選項分別編碼為\n",
    "\n",
    "c11: 如何開始記帳與儲蓄習慣\n",
    "\n",
    "c12: 如何設計資產配置方式\n",
    "\n",
    "c13: 如何規劃多元的投資方式\n",
    "\n",
    "c14: 如何理解股票\n",
    "\n",
    "c15: 如何熟悉基金\n",
    "\n",
    "c16: 如何認識保險類別\n",
    "\n",
    "c17: 如何學會理財小撇步\n",
    "\n",
    "c18: 如何有質感地花費\n",
    "\n",
    "c19: 如何將省下的錢投資自己\n",
    "\n",
    "其值皆為介於 1 至 5 之間的整數，其意義為\n",
    "\n",
    "1: 非常不感興趣\n",
    "\n",
    "2: 不感興趣\n",
    "\n",
    "3: 普通\n",
    "\n",
    "4: 感興趣\n",
    "\n",
    "5: 非常感興趣\n",
    "\n",
    "透過每個變項的值來量化填答者對於各類型課程的感興趣程度。"
   ]
  },
  {
   "cell_type": "code",
   "execution_count": 64,
   "metadata": {},
   "outputs": [
    {
     "data": {
      "image/png": "[encoded data removed]",
      "text/plain": [
       "<Figure size 432x3240 with 9 Axes>"
      ]
     },
     "metadata": {},
     "output_type": "display_data"
    }
   ],
   "source": [
    "fig15, axarr = plt.subplots(9, \n",
    "                            figsize = (6, 45), \n",
    "                            sharex = True,\n",
    "                            squeeze = False)\n",
    "\n",
    "c1_List = ['c11', 'c12', 'c13', 'c14', 'c15', 'c16', 'c17', 'c18', 'c19']\n",
    "\n",
    "for i in range(9):\n",
    "    sns.countplot(df[c1_List[i]],\n",
    "                  ax = axarr[i, 0],\n",
    "                  palette = 'Spectral')\n",
    "    \n",
    "axarr[0, 0].set(title = 'Figure 15: 如何開始記帳與儲蓄習慣',\n",
    "                xlabel = meanLikert('c11'))\n",
    "axarr[1, 0].set(title = 'Figure 15-1: 如何設計資產配置方式',\n",
    "                xlabel = meanLikert('c12'))\n",
    "axarr[2, 0].set(title = 'Figure 15-2: 如何規劃多元的投資方式',\n",
    "                xlabel = meanLikert('c13'))\n",
    "axarr[3, 0].set(title = 'Figure 15-3: 如何理解股票',\n",
    "                xlabel = meanLikert('c14'))\n",
    "axarr[4, 0].set(title = 'Figure 15-4: 如何熟悉基金',\n",
    "                xlabel = meanLikert('c15'))\n",
    "axarr[5, 0].set(title = 'Figure 15-5: 如何認識保險類別',\n",
    "                xlabel = meanLikert('c16'))\n",
    "axarr[6, 0].set(title = 'Figure 15-6: 如何學會理財小撇步',\n",
    "                xlabel = meanLikert('c17'))\n",
    "axarr[7, 0].set(title = 'Figure 15-7: 如何有質感地花費',\n",
    "                xlabel = meanLikert('c18'))\n",
    "axarr[8, 0].set(title = 'Figure 15-8: 如何將省下的錢投資自己',\n",
    "                xlabel = meanLikert('c19'))\n",
    "\n",
    "fig15.subplots_adjust(hspace = 4)\n",
    "plt.tight_layout()\n",
    "plt.show()"
   ]
  },
  {
   "cell_type": "markdown",
   "metadata": {},
   "source": [
    "#### 【圖表說明：Figure 15 ~ Figure 15-8】\n",
    "Figure 15 至 Figure 15-8 顯示 9 個選項的次數分配，\n",
    "\n",
    "X 軸為李克特量表的五個尺度，Y 軸為選擇該選項的人數。"
   ]
  },
  {
   "cell_type": "markdown",
   "metadata": {},
   "source": [
    "#### 【發現與分析】\n",
    "\n",
    "1. 觀察各圖表可發現，平均而言填答者對於各項課程都是相當感興趣的，且圖表的分布相當一致。\n",
    "\n",
    "2. 除了 Figure 15: 如何開始記帳與儲蓄習慣，相對其他選項來說分布比較不同，其中眾樹為 3: 普通，但同意的人數(選 4 或 5)還是遠大於不同意者(選 1 或 2)。\n",
    "\n",
    "3. 此系列結果可以推論各種經濟課程應都相當有市場，若決定欲推廣的課程，可以再透過交叉表分析對此課程「非常感興趣」的人，是哪些族群。"
   ]
  },
  {
   "cell_type": "markdown",
   "metadata": {},
   "source": [
    "### 23. 你的性別是？"
   ]
  },
  {
   "cell_type": "markdown",
   "metadata": {},
   "source": [
    "#### 【變項說明】\n",
    "\n",
    "sex = 0: 生理女性\n",
    "\n",
    "sex = 1: 生理男性\n",
    "\n",
    "sex = 2: 多元性別"
   ]
  },
  {
   "cell_type": "code",
   "execution_count": 65,
   "metadata": {},
   "outputs": [],
   "source": [
    "sex_Counts = df.sex.value_counts()\n",
    "\n",
    "total = sex_Counts.sum() \n",
    "labels = ['生理女性', '生理男性', '多元性別']\n",
    "sizes = [sex_Counts[0] / total, \n",
    "         sex_Counts[1] / total, \n",
    "         sex_Counts[2] / total]"
   ]
  },
  {
   "cell_type": "code",
   "execution_count": 66,
   "metadata": {},
   "outputs": [
    {
     "data": {
      "image/png": "[encoded data removed]",
      "text/plain": [
       "<Figure size 432x720 with 2 Axes>"
      ]
     },
     "metadata": {},
     "output_type": "display_data"
    }
   ],
   "source": [
    "fig16, axarr = plt.subplots(2, 1, figsize = (6, 10))\n",
    "\n",
    "cmap = plt.get_cmap('Pastel2')\n",
    "\n",
    "axarr[0].pie(sizes, labels = labels,\n",
    "             colors = cmap(np.arange(3) * 1),\n",
    "             autopct = '%1.1f%%',\n",
    "             wedgeprops=dict(width = 0.45, edgecolor = 'w'))\n",
    "axarr[0].set(aspect = 'equal', \n",
    "             title = 'Figure 16: 你的性別是？')\n",
    "\n",
    "axarr[1] = sns.countplot(x = df.sex, palette = 'Pastel2')\n",
    "axarr[1].set(title = 'Figure 16-1: 性別次數分配圖')\n",
    "\n",
    "plt.tight_layout()\n",
    "plt.show()"
   ]
  },
  {
   "cell_type": "markdown",
   "metadata": {},
   "source": [
    "#### 【圖表說明：Figure 16 & Figure 16-1】\n",
    "Figure 16 以圓餅圖呈現各性別的比例。\n",
    "\n",
    "Figure 16-1 則是以長條圖顯示各性別的次數分配，\n",
    "\n",
    "X 軸為各性別，Y 軸為選擇該性別的人數。"
   ]
  },
  {
   "cell_type": "markdown",
   "metadata": {},
   "source": [
    "#### 【發現與分析】\n",
    "1. 97% 的填答者為生理女性。\n",
    "\n",
    "2. 做任何進一步分析皆要記得此樣本的性別分佈相當不均。"
   ]
  },
  {
   "cell_type": "markdown",
   "metadata": {},
   "source": [
    "### 24. 你的年齡是？"
   ]
  },
  {
   "cell_type": "markdown",
   "metadata": {},
   "source": [
    "#### 【變項說明】\n",
    "\n",
    "age = 1: 18 歲以下\n",
    "\n",
    "age = 2: 18~24 歲\n",
    "\n",
    "age = 3: 25~29 歲\n",
    "\n",
    "age = 4: 30~34 歲\n",
    "\n",
    "age = 5: 35~39 歲\n",
    "\n",
    "age = 6: 40~44 歲\n",
    "\n",
    "age = 7: 45~49 歲\n",
    "\n",
    "age = 8: 50~54 歲\n",
    "\n",
    "age = 9: 55 歲以上"
   ]
  },
  {
   "cell_type": "code",
   "execution_count": 67,
   "metadata": {},
   "outputs": [
    {
     "name": "stderr",
     "output_type": "stream",
     "text": [
      "C:\\Users\\hp-1\\Anaconda3\\lib\\site-packages\\matplotlib\\axes\\_axes.py:6462: UserWarning: The 'normed' kwarg is deprecated, and has been replaced by the 'density' kwarg.\n",
      "  warnings.warn(\"The 'normed' kwarg is deprecated, and has been \"\n"
     ]
    },
    {
     "data": {
      "image/png": "[encoded data removed]",
      "text/plain": [
       "<Figure size 432x324 with 1 Axes>"
      ]
     },
     "metadata": {},
     "output_type": "display_data"
    }
   ],
   "source": [
    "fig17, ax = plt.subplots(figsize = (6, 4.5))\n",
    "\n",
    "fig17 = sns.distplot(df.age, bins = 9, kde = False)\n",
    "ax.set(title = 'Figure 17: 年齡分組次數分配圖')\n",
    "\n",
    "plt.tight_layout()\n",
    "plt.show()"
   ]
  },
  {
   "cell_type": "markdown",
   "metadata": {},
   "source": [
    "#### 【圖表說明：Figure 17】\n",
    "Figure 17 顯示各年齡分組的次數分配，\n",
    "\n",
    "X 軸為各年齡分組，Y 軸為年齡落在該分組區間的人數。"
   ]
  },
  {
   "cell_type": "markdown",
   "metadata": {},
   "source": [
    "#### 【發現與分析】\n",
    "\n",
    "1. 填答者年齡大多介於 18 至 29 歲\n",
    "\n",
    "2. 29歲以上之區間人數，隨著年齡增加而遞減。"
   ]
  },
  {
   "cell_type": "markdown",
   "metadata": {},
   "source": [
    "### 25. 你的職業是什麼呢？"
   ]
  },
  {
   "cell_type": "markdown",
   "metadata": {},
   "source": [
    "#### 【變項說明】\n",
    "\n",
    "job 為本題之變項，其值為介於 1-22 之整數，\n",
    "\n",
    "以及 77，其意義分別代表不同職業如下，\n",
    "\n",
    "1: 學生\n",
    "\n",
    "2: NGO\n",
    "\n",
    "3: 軍/警/消\n",
    "\n",
    "4: 教師/講師\n",
    "\n",
    "5: 教育研究\n",
    "\n",
    "6: 政府機關\n",
    "\n",
    "7: 餐飲業\n",
    "\n",
    "8: 服務業\n",
    "\n",
    "9: 金融業\n",
    "\n",
    "10: 醫療業\n",
    "\n",
    "11: 製造業\n",
    "\n",
    "12: 資訊業\n",
    "\n",
    "13: 保險業\n",
    "\n",
    "14: 會計業\n",
    "\n",
    "15: 旅遊業\n",
    "\n",
    "16: 新聞媒體\n",
    "\n",
    "17: 交通/運輸\n",
    "\n",
    "18: 行銷/廣告/企劃\n",
    "\n",
    "19: 文創/藝術/設計相關\n",
    "\n",
    "20: 農林漁牧業\n",
    "\n",
    "21: 家管/退休\n",
    "\n",
    "22: 待業中\n",
    "\n",
    "77: 其他（自由填答）"
   ]
  },
  {
   "cell_type": "code",
   "execution_count": 68,
   "metadata": {},
   "outputs": [],
   "source": [
    "job_Counts = df.job.value_counts()\n",
    "majority = job_Counts[1] + job_Counts[8] + job_Counts[11] + job_Counts[10] + job_Counts[12]\n",
    "total = job_Counts.sum()\n",
    "labels = ['學生', '服務業', '製造業', '醫療業', '資訊業', '其他']\n",
    "sizes = [job_Counts[1] / total, \n",
    "         job_Counts[8] / total, \n",
    "         job_Counts[11] / total,\n",
    "         job_Counts[10] / total,\n",
    "         job_Counts[12] / total,\n",
    "         (total - majority) / total]"
   ]
  },
  {
   "cell_type": "code",
   "execution_count": 69,
   "metadata": {},
   "outputs": [
    {
     "data": {
      "image/png": "[encoded data removed]",
      "text/plain": [
       "<Figure size 432x720 with 2 Axes>"
      ]
     },
     "metadata": {},
     "output_type": "display_data"
    }
   ],
   "source": [
    "fig18, axarr = plt.subplots(2, 1, figsize = (6, 10))\n",
    "\n",
    "cmap = plt.get_cmap('Pastel2')\n",
    "\n",
    "axarr[0].pie(sizes, labels = labels,\n",
    "             colors = cmap(np.arange(9) * 1),\n",
    "             autopct = '%1.1f%%',\n",
    "             wedgeprops=dict(width = 0.45, edgecolor = 'w'))\n",
    "axarr[0].set(aspect = 'equal', \n",
    "             title = 'Figure 18: 你的職業是什麼呢？')\n",
    "\n",
    "axarr[1] = sns.countplot(df.job, \n",
    "                         order = df.job.value_counts(ascending= False).index)\n",
    "axarr[1].set(title = 'Figure 18-1: 職業次數分配圖')\n",
    "\n",
    "plt.tight_layout()\n",
    "plt.show()"
   ]
  },
  {
   "cell_type": "markdown",
   "metadata": {},
   "source": [
    "#### 【圖表說明：Figure 18 & Figure 18-1】\n",
    "Figure 18 以圓餅圖呈現各職業的比例，僅列出次數最多之前五名，\n",
    "\n",
    "其餘職業歸入其他。\n",
    "\n",
    "Figure 18-1 則是以長條圖完整呈現各職業的次數分配，\n",
    "\n",
    "X 軸為各職業，Y 軸為該職業的人數。\n",
    "\n",
    "(自動產生的配色好像女人迷的 logo！)"
   ]
  },
  {
   "cell_type": "markdown",
   "metadata": {},
   "source": [
    "#### 【發現與分析】\n",
    "\n",
    "1. 約 16% 的填答者是學生，另有約 14% 的填答者從事服務業。\n",
    "\n",
    "2. 製造業、醫療業則為第二領先集團，各有 8.5% 與 8% 左右的填答者。"
   ]
  },
  {
   "cell_type": "markdown",
   "metadata": {},
   "source": [
    "### 26. 你的職業是什麼呢？(自由填答)"
   ]
  },
  {
   "cell_type": "markdown",
   "metadata": {},
   "source": [
    "#### 以下是自由填答的結果："
   ]
  },
  {
   "cell_type": "code",
   "execution_count": 70,
   "metadata": {},
   "outputs": [],
   "source": [
    "otherJobs = df.jobElse.dropna()"
   ]
  },
  {
   "cell_type": "code",
   "execution_count": 71,
   "metadata": {},
   "outputs": [],
   "source": [
    "sortedJobs = otherJobs.value_counts()"
   ]
  },
  {
   "cell_type": "code",
   "execution_count": 72,
   "metadata": {},
   "outputs": [
    {
     "name": "stdout",
     "output_type": "stream",
     "text": [
      "自由業\n",
      "行政\n",
      "營造業\n",
      "秘書\n",
      "國際貿易\n",
      "代理商\n",
      "工程師\n",
      "保險業\n",
      "打工度假\n",
      "電商專員\n",
      "学生兼打工\n",
      "電銷\n",
      "紋繡師\n",
      "行政企劃\n",
      "會計\n",
      "OL\n",
      "電商\n",
      "主持人\n",
      "人資\n",
      "貿易業\n",
      "行政祕書\n",
      "社工員\n",
      "採購\n",
      "法務助理\n",
      "財務\n",
      "顧問業\n",
      "家業\n",
      "健身教練\n",
      "電子業\n",
      "建築事務所助理\n",
      "鋼琴家教、合唱團鋼琴伴奏\n",
      "家庭主婦\n",
      "IT\n",
      "社會工作者\n",
      "工程顧問業\n",
      "作業員\n",
      "Youtuber\n"
     ]
    }
   ],
   "source": [
    "for job in range(len(sortedJobs)):\n",
    "    \n",
    "    if len(sortedJobs.index[job]) <= 12:    # 奶油海恩打太多廢話\n",
    "        \n",
    "        print(sortedJobs.index[job])\n",
    "        \n",
    "print('Youtuber')    # 還是要記得人家的職業"
   ]
  }
 ],
 "metadata": {
  "kernelspec": {
   "display_name": "Python 3",
   "language": "python",
   "name": "python3"
  },
  "language_info": {
   "codemirror_mode": {
    "name": "ipython",
    "version": 3
   },
   "file_extension": ".py",
   "mimetype": "text/x-python",
   "name": "python",
   "nbconvert_exporter": "python",
   "pygments_lexer": "ipython3",
   "version": "3.6.5"
  }
 },
 "nbformat": 4,
 "nbformat_minor": 2
}
