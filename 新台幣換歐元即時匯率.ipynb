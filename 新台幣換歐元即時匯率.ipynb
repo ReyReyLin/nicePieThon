{
 "cells": [
  {
   "cell_type": "code",
   "execution_count": null,
   "metadata": {},
   "outputs": [],
   "source": [
    "%matplotlib inline\n",
    "\n",
    "import pandas as pd\n",
    "from ipywidgets import interact"
   ]
  },
  {
   "cell_type": "markdown",
   "metadata": {},
   "source": [
    "### 新台幣換歐元或美元匯率"
   ]
  },
  {
   "cell_type": "code",
   "execution_count": null,
   "metadata": {},
   "outputs": [],
   "source": [
    "dfEuro = pd.read_html('https://tw.exchange-rates.org/Rate/TWD/EUR')\n",
    "dfUSD = pd.read_html('https://tw.exchange-rates.org/Rate/TWD/USD')"
   ]
  },
  {
   "cell_type": "code",
   "execution_count": null,
   "metadata": {},
   "outputs": [],
   "source": [
    "df2Euro = dfEuro[0]\n",
    "df2USD = dfUSD[0]"
   ]
  },
  {
   "cell_type": "code",
   "execution_count": null,
   "metadata": {},
   "outputs": [],
   "source": [
    "rate2Euro = float(df2Euro['結果'][0][:-4])\n",
    "rate2USD = float(df2USD['結果'][0][:-4])"
   ]
  },
  {
   "cell_type": "code",
   "execution_count": null,
   "metadata": {},
   "outputs": [],
   "source": [
    "def exchange(ntD, rate):\n",
    "    \n",
    "    return (ntD * rate)"
   ]
  },
  {
   "cell_type": "code",
   "execution_count": null,
   "metadata": {},
   "outputs": [],
   "source": [
    "def currency(x):\n",
    "    if x == '歐元':\n",
    "        rate = rate2Euro\n",
    "        return f\"你可以換到 {exchange(ntD, rate):.2f} €\"\n",
    "    \n",
    "    else:\n",
    "        rate = rate2USD\n",
    "        return f\"你可以換到 USD$ {exchange(ntD, rate):.2f}\""
   ]
  },
  {
   "cell_type": "code",
   "execution_count": null,
   "metadata": {},
   "outputs": [],
   "source": [
    "ntD = float(input('請輸入新台幣金額：'))\n",
    "interact(currency, x = ['歐元', '美元']);"
   ]
  },
  {
   "cell_type": "code",
   "execution_count": null,
   "metadata": {},
   "outputs": [],
   "source": []
  }
 ],
 "metadata": {
  "kernelspec": {
   "display_name": "Python 3",
   "language": "python",
   "name": "python3"
  },
  "language_info": {
   "codemirror_mode": {
    "name": "ipython",
    "version": 3
   },
   "file_extension": ".py",
   "mimetype": "text/x-python",
   "name": "python",
   "nbconvert_exporter": "python",
   "pygments_lexer": "ipython3",
   "version": "3.6.5"
  }
 },
 "nbformat": 4,
 "nbformat_minor": 2
}
