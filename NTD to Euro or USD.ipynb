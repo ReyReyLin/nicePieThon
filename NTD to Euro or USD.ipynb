{
 "cells": [
  {
   "cell_type": "markdown",
   "metadata": {},
   "source": [
    "# 這是一個根據即時匯率，給定新台幣金額\n",
    "# 幫你計算可以兌換多少歐元或美金的程式\n",
    "### 雖然是很簡單的東西，現行也有網站幫你做這件事，但我覺得自己寫出來的過程還是很有趣而且小有成就感！"
   ]
  },
  {
   "cell_type": "code",
   "execution_count": 1,
   "metadata": {},
   "outputs": [],
   "source": [
    "%matplotlib inline\n",
    "\n",
    "import pandas as pd\n",
    "from ipywidgets import interact"
   ]
  },
  {
   "cell_type": "markdown",
   "metadata": {},
   "source": [
    "### 從網頁中讀取匯率表格"
   ]
  },
  {
   "cell_type": "code",
   "execution_count": 2,
   "metadata": {},
   "outputs": [],
   "source": [
    "dfEuro = pd.read_html('https://tw.exchange-rates.org/Rate/TWD/EUR')\n",
    "dfUSD = pd.read_html('https://tw.exchange-rates.org/Rate/TWD/USD')"
   ]
  },
  {
   "cell_type": "markdown",
   "metadata": {},
   "source": [
    "### 選取1新台幣兌換多少歐元或美元的匯率值"
   ]
  },
  {
   "cell_type": "code",
   "execution_count": 3,
   "metadata": {},
   "outputs": [],
   "source": [
    "df2Euro = dfEuro[0]\n",
    "df2USD = dfUSD[0]"
   ]
  },
  {
   "cell_type": "code",
   "execution_count": 4,
   "metadata": {},
   "outputs": [],
   "source": [
    "rate2Euro = float(df2Euro['結果'][0][:-4])\n",
    "rate2USD = float(df2USD['結果'][0][:-4])"
   ]
  },
  {
   "cell_type": "markdown",
   "metadata": {},
   "source": [
    "### 換匯函數"
   ]
  },
  {
   "cell_type": "code",
   "execution_count": 5,
   "metadata": {},
   "outputs": [],
   "source": [
    "def exchange(ntD, rate):\n",
    "    \n",
    "    return (ntD * rate)"
   ]
  },
  {
   "cell_type": "markdown",
   "metadata": {},
   "source": [
    "### 選取貨幣並輸出最終結果的函數"
   ]
  },
  {
   "cell_type": "code",
   "execution_count": 6,
   "metadata": {},
   "outputs": [],
   "source": [
    "def currency(x):\n",
    "    if x == '歐元':\n",
    "        rate = rate2Euro\n",
    "        return f\"你可以換到 {exchange(ntD, rate):.2f} €\"\n",
    "    \n",
    "    else:\n",
    "        rate = rate2USD\n",
    "        return f\"你可以換到 USD$ {exchange(ntD, rate):.2f}\""
   ]
  },
  {
   "cell_type": "markdown",
   "metadata": {},
   "source": [
    "### 試試看吧"
   ]
  },
  {
   "cell_type": "code",
   "execution_count": 7,
   "metadata": {},
   "outputs": [
    {
     "name": "stdout",
     "output_type": "stream",
     "text": [
      "請輸入新台幣金額：10000\n"
     ]
    },
    {
     "data": {
      "application/vnd.jupyter.widget-view+json": {
       "model_id": "2c2d54629b5d434e878248c3004af25e",
       "version_major": 2,
       "version_minor": 0
      },
      "text/plain": [
       "interactive(children=(Dropdown(description='x', options=('歐元', '美元'), value='歐元'), Output()), _dom_classes=('w…"
      ]
     },
     "metadata": {},
     "output_type": "display_data"
    }
   ],
   "source": [
    "ntD = float(input('請輸入新台幣金額：'))\n",
    "interact(currency, x = ['歐元', '美元']);"
   ]
  }
 ],
 "metadata": {
  "kernelspec": {
   "display_name": "Python 3",
   "language": "python",
   "name": "python3"
  },
  "language_info": {
   "codemirror_mode": {
    "name": "ipython",
    "version": 3
   },
   "file_extension": ".py",
   "mimetype": "text/x-python",
   "name": "python",
   "nbconvert_exporter": "python",
   "pygments_lexer": "ipython3",
   "version": "3.6.5"
  }
 },
 "nbformat": 4,
 "nbformat_minor": 2
}
